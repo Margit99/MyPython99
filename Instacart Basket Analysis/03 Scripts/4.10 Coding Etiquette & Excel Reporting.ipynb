{
 "cells": [
  {
   "cell_type": "markdown",
   "id": "d95afb43",
   "metadata": {},
   "source": [
    "**Coding Etiquette & Excel Reporting - Task Part 1**"
   ]
  },
  {
   "cell_type": "markdown",
   "id": "27f1ee2c",
   "metadata": {},
   "source": [
    "Importing libraries"
   ]
  },
  {
   "cell_type": "code",
   "execution_count": 1,
   "id": "4b954b07",
   "metadata": {},
   "outputs": [],
   "source": [
    "#import libraries\n",
    "import pandas as pd\n",
    "import numpy as np\n",
    "import os\n",
    "import matplotlib.pyplot as plt\n",
    "import seaborn as sns\n",
    "import scipy"
   ]
  },
  {
   "cell_type": "markdown",
   "id": "4a8bd970",
   "metadata": {},
   "source": [
    "Importing data"
   ]
  },
  {
   "cell_type": "code",
   "execution_count": 2,
   "id": "ea279e63",
   "metadata": {},
   "outputs": [],
   "source": [
    "#Create path\n",
    "path = r'C:\\Users\\mngit\\OneDrive\\Data Analytics\\Project Excercises\\Achievement 4\\Instacart Basket Analysis' "
   ]
  },
  {
   "cell_type": "code",
   "execution_count": 3,
   "id": "d4d9fd2c",
   "metadata": {},
   "outputs": [],
   "source": [
    "# import orders_products_customers\n",
    "orders_products_customers = pd.read_pickle(os.path.join(path, '02 Data','Prepared Data', 'orders_products_customers.pkl'))"
   ]
  },
  {
   "cell_type": "code",
   "execution_count": 4,
   "id": "fa2ca294",
   "metadata": {},
   "outputs": [],
   "source": [
    "df_prods = pd.read_csv(os.path.join(path, '02 Data','Prepared Data', 'departments_wrangled.csv'), index_col = False )"
   ]
  },
  {
   "cell_type": "code",
   "execution_count": 5,
   "id": "e672d704",
   "metadata": {},
   "outputs": [
    {
     "data": {
      "text/plain": [
       "(32404859, 33)"
      ]
     },
     "execution_count": 5,
     "metadata": {},
     "output_type": "execute_result"
    }
   ],
   "source": [
    "orders_products_customers.shape"
   ]
  },
  {
   "cell_type": "code",
   "execution_count": 6,
   "id": "387f0faa",
   "metadata": {},
   "outputs": [],
   "source": [
    "#show all columns\n",
    "pd.set_option('display.max_columns', None)"
   ]
  },
  {
   "cell_type": "code",
   "execution_count": 7,
   "id": "8c529a64",
   "metadata": {},
   "outputs": [
    {
     "data": {
      "text/html": [
       "<div>\n",
       "<style scoped>\n",
       "    .dataframe tbody tr th:only-of-type {\n",
       "        vertical-align: middle;\n",
       "    }\n",
       "\n",
       "    .dataframe tbody tr th {\n",
       "        vertical-align: top;\n",
       "    }\n",
       "\n",
       "    .dataframe thead th {\n",
       "        text-align: right;\n",
       "    }\n",
       "</style>\n",
       "<table border=\"1\" class=\"dataframe\">\n",
       "  <thead>\n",
       "    <tr style=\"text-align: right;\">\n",
       "      <th></th>\n",
       "      <th>order_id</th>\n",
       "      <th>user_id</th>\n",
       "      <th>order_number</th>\n",
       "      <th>orders_day_of_week</th>\n",
       "      <th>order_hour_of_day</th>\n",
       "      <th>days_since_prior_order</th>\n",
       "      <th>product_id</th>\n",
       "      <th>add_to_cart_order</th>\n",
       "      <th>reordered</th>\n",
       "      <th>_merge</th>\n",
       "      <th>product_name</th>\n",
       "      <th>aisle_id</th>\n",
       "      <th>department_id</th>\n",
       "      <th>prices</th>\n",
       "      <th>price_range_loc</th>\n",
       "      <th>busiest_day</th>\n",
       "      <th>busiest_days</th>\n",
       "      <th>busiest_period_of_day</th>\n",
       "      <th>max_order</th>\n",
       "      <th>loyalty_flag</th>\n",
       "      <th>mean_prices</th>\n",
       "      <th>spending_flag</th>\n",
       "      <th>median_days_since_prior_order</th>\n",
       "      <th>order_frequency_flag</th>\n",
       "      <th>first_name</th>\n",
       "      <th>last_name</th>\n",
       "      <th>gender</th>\n",
       "      <th>state</th>\n",
       "      <th>age</th>\n",
       "      <th>date_joined</th>\n",
       "      <th>no_of_dependants</th>\n",
       "      <th>status</th>\n",
       "      <th>income</th>\n",
       "    </tr>\n",
       "  </thead>\n",
       "  <tbody>\n",
       "    <tr>\n",
       "      <th>0</th>\n",
       "      <td>2539329</td>\n",
       "      <td>1</td>\n",
       "      <td>1</td>\n",
       "      <td>2</td>\n",
       "      <td>8</td>\n",
       "      <td>7.0</td>\n",
       "      <td>196</td>\n",
       "      <td>1</td>\n",
       "      <td>0</td>\n",
       "      <td>both</td>\n",
       "      <td>Soda</td>\n",
       "      <td>77</td>\n",
       "      <td>7</td>\n",
       "      <td>9.0</td>\n",
       "      <td>Mid-range product</td>\n",
       "      <td>Regularly busy</td>\n",
       "      <td>Regularly busy</td>\n",
       "      <td>Average orders</td>\n",
       "      <td>10</td>\n",
       "      <td>New customer</td>\n",
       "      <td>6.367797</td>\n",
       "      <td>Low spender</td>\n",
       "      <td>20.0</td>\n",
       "      <td>Regular customer</td>\n",
       "      <td>Linda</td>\n",
       "      <td>Nguyen</td>\n",
       "      <td>Female</td>\n",
       "      <td>Alabama</td>\n",
       "      <td>31</td>\n",
       "      <td>2/17/2019</td>\n",
       "      <td>3</td>\n",
       "      <td>married</td>\n",
       "      <td>40423</td>\n",
       "    </tr>\n",
       "    <tr>\n",
       "      <th>1</th>\n",
       "      <td>2398795</td>\n",
       "      <td>1</td>\n",
       "      <td>2</td>\n",
       "      <td>3</td>\n",
       "      <td>7</td>\n",
       "      <td>15.0</td>\n",
       "      <td>196</td>\n",
       "      <td>1</td>\n",
       "      <td>1</td>\n",
       "      <td>both</td>\n",
       "      <td>Soda</td>\n",
       "      <td>77</td>\n",
       "      <td>7</td>\n",
       "      <td>9.0</td>\n",
       "      <td>Mid-range product</td>\n",
       "      <td>Regularly busy</td>\n",
       "      <td>Least busy days</td>\n",
       "      <td>Average orders</td>\n",
       "      <td>10</td>\n",
       "      <td>New customer</td>\n",
       "      <td>6.367797</td>\n",
       "      <td>Low spender</td>\n",
       "      <td>20.0</td>\n",
       "      <td>Regular customer</td>\n",
       "      <td>Linda</td>\n",
       "      <td>Nguyen</td>\n",
       "      <td>Female</td>\n",
       "      <td>Alabama</td>\n",
       "      <td>31</td>\n",
       "      <td>2/17/2019</td>\n",
       "      <td>3</td>\n",
       "      <td>married</td>\n",
       "      <td>40423</td>\n",
       "    </tr>\n",
       "    <tr>\n",
       "      <th>2</th>\n",
       "      <td>473747</td>\n",
       "      <td>1</td>\n",
       "      <td>3</td>\n",
       "      <td>3</td>\n",
       "      <td>12</td>\n",
       "      <td>21.0</td>\n",
       "      <td>196</td>\n",
       "      <td>1</td>\n",
       "      <td>1</td>\n",
       "      <td>both</td>\n",
       "      <td>Soda</td>\n",
       "      <td>77</td>\n",
       "      <td>7</td>\n",
       "      <td>9.0</td>\n",
       "      <td>Mid-range product</td>\n",
       "      <td>Regularly busy</td>\n",
       "      <td>Least busy days</td>\n",
       "      <td>Most orders</td>\n",
       "      <td>10</td>\n",
       "      <td>New customer</td>\n",
       "      <td>6.367797</td>\n",
       "      <td>Low spender</td>\n",
       "      <td>20.0</td>\n",
       "      <td>Regular customer</td>\n",
       "      <td>Linda</td>\n",
       "      <td>Nguyen</td>\n",
       "      <td>Female</td>\n",
       "      <td>Alabama</td>\n",
       "      <td>31</td>\n",
       "      <td>2/17/2019</td>\n",
       "      <td>3</td>\n",
       "      <td>married</td>\n",
       "      <td>40423</td>\n",
       "    </tr>\n",
       "    <tr>\n",
       "      <th>3</th>\n",
       "      <td>2254736</td>\n",
       "      <td>1</td>\n",
       "      <td>4</td>\n",
       "      <td>4</td>\n",
       "      <td>7</td>\n",
       "      <td>29.0</td>\n",
       "      <td>196</td>\n",
       "      <td>1</td>\n",
       "      <td>1</td>\n",
       "      <td>both</td>\n",
       "      <td>Soda</td>\n",
       "      <td>77</td>\n",
       "      <td>7</td>\n",
       "      <td>9.0</td>\n",
       "      <td>Mid-range product</td>\n",
       "      <td>Least busy</td>\n",
       "      <td>Least busy days</td>\n",
       "      <td>Average orders</td>\n",
       "      <td>10</td>\n",
       "      <td>New customer</td>\n",
       "      <td>6.367797</td>\n",
       "      <td>Low spender</td>\n",
       "      <td>20.0</td>\n",
       "      <td>Regular customer</td>\n",
       "      <td>Linda</td>\n",
       "      <td>Nguyen</td>\n",
       "      <td>Female</td>\n",
       "      <td>Alabama</td>\n",
       "      <td>31</td>\n",
       "      <td>2/17/2019</td>\n",
       "      <td>3</td>\n",
       "      <td>married</td>\n",
       "      <td>40423</td>\n",
       "    </tr>\n",
       "    <tr>\n",
       "      <th>4</th>\n",
       "      <td>431534</td>\n",
       "      <td>1</td>\n",
       "      <td>5</td>\n",
       "      <td>4</td>\n",
       "      <td>15</td>\n",
       "      <td>28.0</td>\n",
       "      <td>196</td>\n",
       "      <td>1</td>\n",
       "      <td>1</td>\n",
       "      <td>both</td>\n",
       "      <td>Soda</td>\n",
       "      <td>77</td>\n",
       "      <td>7</td>\n",
       "      <td>9.0</td>\n",
       "      <td>Mid-range product</td>\n",
       "      <td>Least busy</td>\n",
       "      <td>Least busy days</td>\n",
       "      <td>Most orders</td>\n",
       "      <td>10</td>\n",
       "      <td>New customer</td>\n",
       "      <td>6.367797</td>\n",
       "      <td>Low spender</td>\n",
       "      <td>20.0</td>\n",
       "      <td>Regular customer</td>\n",
       "      <td>Linda</td>\n",
       "      <td>Nguyen</td>\n",
       "      <td>Female</td>\n",
       "      <td>Alabama</td>\n",
       "      <td>31</td>\n",
       "      <td>2/17/2019</td>\n",
       "      <td>3</td>\n",
       "      <td>married</td>\n",
       "      <td>40423</td>\n",
       "    </tr>\n",
       "  </tbody>\n",
       "</table>\n",
       "</div>"
      ],
      "text/plain": [
       "   order_id  user_id  order_number  orders_day_of_week  order_hour_of_day  \\\n",
       "0   2539329        1             1                   2                  8   \n",
       "1   2398795        1             2                   3                  7   \n",
       "2    473747        1             3                   3                 12   \n",
       "3   2254736        1             4                   4                  7   \n",
       "4    431534        1             5                   4                 15   \n",
       "\n",
       "   days_since_prior_order  product_id  add_to_cart_order  reordered _merge  \\\n",
       "0                     7.0         196                  1          0   both   \n",
       "1                    15.0         196                  1          1   both   \n",
       "2                    21.0         196                  1          1   both   \n",
       "3                    29.0         196                  1          1   both   \n",
       "4                    28.0         196                  1          1   both   \n",
       "\n",
       "  product_name  aisle_id  department_id  prices    price_range_loc  \\\n",
       "0         Soda        77              7     9.0  Mid-range product   \n",
       "1         Soda        77              7     9.0  Mid-range product   \n",
       "2         Soda        77              7     9.0  Mid-range product   \n",
       "3         Soda        77              7     9.0  Mid-range product   \n",
       "4         Soda        77              7     9.0  Mid-range product   \n",
       "\n",
       "      busiest_day     busiest_days busiest_period_of_day  max_order  \\\n",
       "0  Regularly busy   Regularly busy        Average orders         10   \n",
       "1  Regularly busy  Least busy days        Average orders         10   \n",
       "2  Regularly busy  Least busy days           Most orders         10   \n",
       "3      Least busy  Least busy days        Average orders         10   \n",
       "4      Least busy  Least busy days           Most orders         10   \n",
       "\n",
       "   loyalty_flag  mean_prices spending_flag  median_days_since_prior_order  \\\n",
       "0  New customer     6.367797   Low spender                           20.0   \n",
       "1  New customer     6.367797   Low spender                           20.0   \n",
       "2  New customer     6.367797   Low spender                           20.0   \n",
       "3  New customer     6.367797   Low spender                           20.0   \n",
       "4  New customer     6.367797   Low spender                           20.0   \n",
       "\n",
       "  order_frequency_flag first_name last_name  gender    state  age date_joined  \\\n",
       "0     Regular customer      Linda    Nguyen  Female  Alabama   31   2/17/2019   \n",
       "1     Regular customer      Linda    Nguyen  Female  Alabama   31   2/17/2019   \n",
       "2     Regular customer      Linda    Nguyen  Female  Alabama   31   2/17/2019   \n",
       "3     Regular customer      Linda    Nguyen  Female  Alabama   31   2/17/2019   \n",
       "4     Regular customer      Linda    Nguyen  Female  Alabama   31   2/17/2019   \n",
       "\n",
       "   no_of_dependants   status  income  \n",
       "0                 3  married   40423  \n",
       "1                 3  married   40423  \n",
       "2                 3  married   40423  \n",
       "3                 3  married   40423  \n",
       "4                 3  married   40423  "
      ]
     },
     "execution_count": 7,
     "metadata": {},
     "output_type": "execute_result"
    }
   ],
   "source": [
    "orders_products_customers.head(5)"
   ]
  },
  {
   "cell_type": "markdown",
   "id": "a6dec7bc",
   "metadata": {},
   "source": [
    "Personally identifiable information (PII)\n",
    "i) first_name ii) last_name  - both columns to be dropped"
   ]
  },
  {
   "cell_type": "code",
   "execution_count": 8,
   "id": "3e19254e",
   "metadata": {},
   "outputs": [],
   "source": [
    "orders_products_customers = orders_products_customers.drop(['first_name','last_name'],axis = 'columns')"
   ]
  },
  {
   "cell_type": "code",
   "execution_count": 9,
   "id": "19429e0f",
   "metadata": {},
   "outputs": [
    {
     "data": {
      "text/plain": [
       "(32404859, 31)"
      ]
     },
     "execution_count": 9,
     "metadata": {},
     "output_type": "execute_result"
    }
   ],
   "source": [
    "#confirm column drop\n",
    "orders_products_customers.shape"
   ]
  },
  {
   "cell_type": "markdown",
   "id": "20200852",
   "metadata": {},
   "source": [
    "Comparing customer behavior in different geographic areas"
   ]
  },
  {
   "cell_type": "code",
   "execution_count": 10,
   "id": "03e13951",
   "metadata": {},
   "outputs": [],
   "source": [
    "#create region flag by state\n",
    "NE = ['Main', 'New Hampshire', 'Vermont', 'Massachusetts', 'Rhode Island', 'Connecticut', 'New York', 'Pennsylvania', 'New Jersey']\n",
    "MW = ['Wisconsin', 'Michigan', 'Illinois', 'Indiana', 'Ohio', 'North Dakota', 'South Dakota','Nebraska', 'Kansas', 'Minnesota', 'Iowa', 'Missouri']\n",
    "S = ['Delaware', 'Maryland', 'District of Columbia', 'Virginia', 'West Virginia','North Carolina', 'South Carolina','Georgia','Florida','Kentucky','Tennessee','Mississippi','Alabama','Oklahoma','Texas','Arkansas', 'Louisiana']\n",
    "W = ['Idaho', 'Montana', 'Wyoming', 'Nevada','Utah','Colorado','Arizona','New Mexico','Alaska', 'Washington','Oregon','California','Hawaii']"
   ]
  },
  {
   "cell_type": "code",
   "execution_count": 11,
   "id": "8aac24ac",
   "metadata": {},
   "outputs": [],
   "source": [
    "#create 'region' column using flag\n",
    "orders_products_customers.loc[orders_products_customers['state'].isin(NE), 'region'] = 'Northeast'\n",
    "orders_products_customers.loc[orders_products_customers['state'].isin(MW), 'region'] = 'Midwest'\n",
    "orders_products_customers.loc[orders_products_customers['state'].isin(S), 'region'] = 'South'\n",
    "orders_products_customers.loc[orders_products_customers['state'].isin(W), 'region'] = 'West'"
   ]
  },
  {
   "cell_type": "code",
   "execution_count": 12,
   "id": "b9dbe4ef",
   "metadata": {},
   "outputs": [
    {
     "data": {
      "text/plain": [
       "South        10791885\n",
       "West          8292913\n",
       "Midwest       7597325\n",
       "Northeast     5084153\n",
       "NaN            638583\n",
       "Name: region, dtype: int64"
      ]
     },
     "execution_count": 12,
     "metadata": {},
     "output_type": "execute_result"
    }
   ],
   "source": [
    "#print frequency of \n",
    "orders_products_customers['region'].value_counts(dropna = False)"
   ]
  },
  {
   "cell_type": "code",
   "execution_count": 13,
   "id": "af8477e7",
   "metadata": {},
   "outputs": [],
   "source": [
    "#spending habits comparison between the different U.S. regions\n",
    "crosstab = pd.crosstab(orders_products_customers['region'], orders_products_customers['spending_flag'], dropna = False)"
   ]
  },
  {
   "cell_type": "code",
   "execution_count": 14,
   "id": "3eeb941f",
   "metadata": {},
   "outputs": [
    {
     "data": {
      "text/html": [
       "<div>\n",
       "<style scoped>\n",
       "    .dataframe tbody tr th:only-of-type {\n",
       "        vertical-align: middle;\n",
       "    }\n",
       "\n",
       "    .dataframe tbody tr th {\n",
       "        vertical-align: top;\n",
       "    }\n",
       "\n",
       "    .dataframe thead th {\n",
       "        text-align: right;\n",
       "    }\n",
       "</style>\n",
       "<table border=\"1\" class=\"dataframe\">\n",
       "  <thead>\n",
       "    <tr style=\"text-align: right;\">\n",
       "      <th>spending_flag</th>\n",
       "      <th>High spender</th>\n",
       "      <th>Low spender</th>\n",
       "    </tr>\n",
       "    <tr>\n",
       "      <th>region</th>\n",
       "      <th></th>\n",
       "      <th></th>\n",
       "    </tr>\n",
       "  </thead>\n",
       "  <tbody>\n",
       "    <tr>\n",
       "      <th>Midwest</th>\n",
       "      <td>155975</td>\n",
       "      <td>7441350</td>\n",
       "    </tr>\n",
       "    <tr>\n",
       "      <th>Northeast</th>\n",
       "      <td>94050</td>\n",
       "      <td>4990103</td>\n",
       "    </tr>\n",
       "    <tr>\n",
       "      <th>South</th>\n",
       "      <td>209691</td>\n",
       "      <td>10582194</td>\n",
       "    </tr>\n",
       "    <tr>\n",
       "      <th>West</th>\n",
       "      <td>160354</td>\n",
       "      <td>8132559</td>\n",
       "    </tr>\n",
       "  </tbody>\n",
       "</table>\n",
       "</div>"
      ],
      "text/plain": [
       "spending_flag  High spender  Low spender\n",
       "region                                  \n",
       "Midwest              155975      7441350\n",
       "Northeast             94050      4990103\n",
       "South                209691     10582194\n",
       "West                 160354      8132559"
      ]
     },
     "execution_count": 14,
     "metadata": {},
     "output_type": "execute_result"
    }
   ],
   "source": [
    "#print crosstab\n",
    "crosstab"
   ]
  },
  {
   "cell_type": "markdown",
   "id": "99233d91",
   "metadata": {},
   "source": [
    "Low revenue customers"
   ]
  },
  {
   "cell_type": "code",
   "execution_count": 15,
   "id": "b63eaa7e",
   "metadata": {},
   "outputs": [],
   "source": [
    "#locate low-activity customers and normal activity(more than 5 orderd) customers\n",
    "orders_products_customers.loc[orders_products_customers['max_order'] <5, 'customer_revenue_rate' ] = 1\n",
    "orders_products_customers.loc[orders_products_customers['max_order'] >=5, 'customer_revenue_rate' ] = 0"
   ]
  },
  {
   "cell_type": "code",
   "execution_count": 16,
   "id": "111b7af3",
   "metadata": {},
   "outputs": [
    {
     "data": {
      "text/plain": [
       "0.0    30964564\n",
       "1.0     1440295\n",
       "Name: customer_revenue_rate, dtype: int64"
      ]
     },
     "execution_count": 16,
     "metadata": {},
     "output_type": "execute_result"
    }
   ],
   "source": [
    "orders_products_customers['customer_revenue_rate' ].value_counts()"
   ]
  },
  {
   "cell_type": "code",
   "execution_count": 17,
   "id": "5f296537",
   "metadata": {},
   "outputs": [],
   "source": [
    "#create new data sets by customer revenue i) low_revenue_customers ii) Instacart_final\n",
    "low_revenue_customers = orders_products_customers.loc[orders_products_customers['customer_revenue_rate'] == 1]\n",
    "Instacart_final = orders_products_customers.loc[orders_products_customers['customer_revenue_rate'] == 0]"
   ]
  },
  {
   "cell_type": "code",
   "execution_count": 18,
   "id": "f1de4e3b",
   "metadata": {},
   "outputs": [
    {
     "data": {
      "text/plain": [
       "1.0    1440295\n",
       "Name: customer_revenue_rate, dtype: int64"
      ]
     },
     "execution_count": 18,
     "metadata": {},
     "output_type": "execute_result"
    }
   ],
   "source": [
    "#confirm data set\n",
    "low_revenue_customers['customer_revenue_rate'].value_counts()"
   ]
  },
  {
   "cell_type": "code",
   "execution_count": 19,
   "id": "80b81f8d",
   "metadata": {},
   "outputs": [],
   "source": [
    "#Export low_revenue_customers\n",
    "low_revenue_customers.to_clipboard()"
   ]
  },
  {
   "cell_type": "code",
   "execution_count": 20,
   "id": "1ce6c97e",
   "metadata": {},
   "outputs": [
    {
     "data": {
      "text/plain": [
       "(30964564, 33)"
      ]
     },
     "execution_count": 20,
     "metadata": {},
     "output_type": "execute_result"
    }
   ],
   "source": [
    "Instacart_final.shape"
   ]
  },
  {
   "cell_type": "markdown",
   "id": "690e92d8",
   "metadata": {},
   "source": [
    "Customer Profiling"
   ]
  },
  {
   "cell_type": "code",
   "execution_count": 21,
   "id": "9e8bff0f",
   "metadata": {},
   "outputs": [
    {
     "data": {
      "text/plain": [
       "18"
      ]
     },
     "execution_count": 21,
     "metadata": {},
     "output_type": "execute_result"
    }
   ],
   "source": [
    "Instacart_final['age'].min()"
   ]
  },
  {
   "cell_type": "code",
   "execution_count": 22,
   "id": "e9fddbd6",
   "metadata": {},
   "outputs": [
    {
     "data": {
      "text/plain": [
       "81"
      ]
     },
     "execution_count": 22,
     "metadata": {},
     "output_type": "execute_result"
    }
   ],
   "source": [
    "Instacart_final['age'].max()"
   ]
  },
  {
   "cell_type": "code",
   "execution_count": 23,
   "id": "2a5e3528",
   "metadata": {},
   "outputs": [
    {
     "data": {
      "text/plain": [
       "25903"
      ]
     },
     "execution_count": 23,
     "metadata": {},
     "output_type": "execute_result"
    }
   ],
   "source": [
    "Instacart_final['income'].min()"
   ]
  },
  {
   "cell_type": "code",
   "execution_count": 24,
   "id": "ab09e584",
   "metadata": {},
   "outputs": [
    {
     "data": {
      "text/plain": [
       "593901"
      ]
     },
     "execution_count": 24,
     "metadata": {},
     "output_type": "execute_result"
    }
   ],
   "source": [
    "Instacart_final['income'].max()"
   ]
  },
  {
   "cell_type": "code",
   "execution_count": 25,
   "id": "89f09ae0",
   "metadata": {},
   "outputs": [
    {
     "data": {
      "text/html": [
       "<div>\n",
       "<style scoped>\n",
       "    .dataframe tbody tr th:only-of-type {\n",
       "        vertical-align: middle;\n",
       "    }\n",
       "\n",
       "    .dataframe tbody tr th {\n",
       "        vertical-align: top;\n",
       "    }\n",
       "\n",
       "    .dataframe thead th {\n",
       "        text-align: right;\n",
       "    }\n",
       "</style>\n",
       "<table border=\"1\" class=\"dataframe\">\n",
       "  <thead>\n",
       "    <tr style=\"text-align: right;\">\n",
       "      <th></th>\n",
       "      <th>Unnamed: 0</th>\n",
       "      <th>department</th>\n",
       "    </tr>\n",
       "  </thead>\n",
       "  <tbody>\n",
       "    <tr>\n",
       "      <th>0</th>\n",
       "      <td>1</td>\n",
       "      <td>frozen</td>\n",
       "    </tr>\n",
       "    <tr>\n",
       "      <th>1</th>\n",
       "      <td>2</td>\n",
       "      <td>other</td>\n",
       "    </tr>\n",
       "    <tr>\n",
       "      <th>2</th>\n",
       "      <td>3</td>\n",
       "      <td>bakery</td>\n",
       "    </tr>\n",
       "    <tr>\n",
       "      <th>3</th>\n",
       "      <td>4</td>\n",
       "      <td>produce</td>\n",
       "    </tr>\n",
       "    <tr>\n",
       "      <th>4</th>\n",
       "      <td>5</td>\n",
       "      <td>alcohol</td>\n",
       "    </tr>\n",
       "    <tr>\n",
       "      <th>5</th>\n",
       "      <td>6</td>\n",
       "      <td>international</td>\n",
       "    </tr>\n",
       "    <tr>\n",
       "      <th>6</th>\n",
       "      <td>7</td>\n",
       "      <td>beverages</td>\n",
       "    </tr>\n",
       "    <tr>\n",
       "      <th>7</th>\n",
       "      <td>8</td>\n",
       "      <td>pets</td>\n",
       "    </tr>\n",
       "    <tr>\n",
       "      <th>8</th>\n",
       "      <td>9</td>\n",
       "      <td>dry goods pasta</td>\n",
       "    </tr>\n",
       "    <tr>\n",
       "      <th>9</th>\n",
       "      <td>10</td>\n",
       "      <td>bulk</td>\n",
       "    </tr>\n",
       "    <tr>\n",
       "      <th>10</th>\n",
       "      <td>11</td>\n",
       "      <td>personal care</td>\n",
       "    </tr>\n",
       "    <tr>\n",
       "      <th>11</th>\n",
       "      <td>12</td>\n",
       "      <td>meat seafood</td>\n",
       "    </tr>\n",
       "    <tr>\n",
       "      <th>12</th>\n",
       "      <td>13</td>\n",
       "      <td>pantry</td>\n",
       "    </tr>\n",
       "    <tr>\n",
       "      <th>13</th>\n",
       "      <td>14</td>\n",
       "      <td>breakfast</td>\n",
       "    </tr>\n",
       "    <tr>\n",
       "      <th>14</th>\n",
       "      <td>15</td>\n",
       "      <td>canned goods</td>\n",
       "    </tr>\n",
       "    <tr>\n",
       "      <th>15</th>\n",
       "      <td>16</td>\n",
       "      <td>dairy eggs</td>\n",
       "    </tr>\n",
       "    <tr>\n",
       "      <th>16</th>\n",
       "      <td>17</td>\n",
       "      <td>household</td>\n",
       "    </tr>\n",
       "    <tr>\n",
       "      <th>17</th>\n",
       "      <td>18</td>\n",
       "      <td>babies</td>\n",
       "    </tr>\n",
       "    <tr>\n",
       "      <th>18</th>\n",
       "      <td>19</td>\n",
       "      <td>snacks</td>\n",
       "    </tr>\n",
       "    <tr>\n",
       "      <th>19</th>\n",
       "      <td>20</td>\n",
       "      <td>deli</td>\n",
       "    </tr>\n",
       "    <tr>\n",
       "      <th>20</th>\n",
       "      <td>21</td>\n",
       "      <td>missing</td>\n",
       "    </tr>\n",
       "  </tbody>\n",
       "</table>\n",
       "</div>"
      ],
      "text/plain": [
       "    Unnamed: 0       department\n",
       "0            1           frozen\n",
       "1            2            other\n",
       "2            3           bakery\n",
       "3            4          produce\n",
       "4            5          alcohol\n",
       "5            6    international\n",
       "6            7        beverages\n",
       "7            8             pets\n",
       "8            9  dry goods pasta\n",
       "9           10             bulk\n",
       "10          11    personal care\n",
       "11          12     meat seafood\n",
       "12          13           pantry\n",
       "13          14        breakfast\n",
       "14          15     canned goods\n",
       "15          16       dairy eggs\n",
       "16          17        household\n",
       "17          18           babies\n",
       "18          19           snacks\n",
       "19          20             deli\n",
       "20          21          missing"
      ]
     },
     "execution_count": 25,
     "metadata": {},
     "output_type": "execute_result"
    }
   ],
   "source": [
    "#list departments\n",
    "df_prods.head(21)"
   ]
  },
  {
   "cell_type": "markdown",
   "id": "cbad0a73",
   "metadata": {},
   "source": [
    "Customer Profiling based on age, income, goods ordered and number of dependents\n",
    "          *family                                   single adult*\n",
    "           dependents >= 1                          dependents = 0\n",
    "           __________________________________________________________________\n",
    "          *Age group\n",
    "          18-24 young adult\n",
    "          25-44 adult\n",
    "          45-64 middle aged\n",
    "          65-81 seniors\n",
    "          __________________________________________________________________\n",
    "          *Income\n",
    "          25K - 38K - extremly low income\n",
    "          39K - 62K - very Low income\n",
    "          63K - 70K - low Income\n",
    "          71K - 85K - Median Income\n",
    "          86K - 99K - Moderate income\n",
    "          100K +    - High income\n",
    "    **Source https://www.hcd.ca.gov/grants-funding/income-limits/state-and-federal-income-limits/docs/income-limits-2020.pdf **\n",
    "           \n",
    "           *departments \n",
    "           bulk purchases  (department_id  10 )   \n",
    "           baby products   (department_id  18 )     \n",
    "          "
   ]
  },
  {
   "cell_type": "code",
   "execution_count": 27,
   "id": "9e6c30e1",
   "metadata": {},
   "outputs": [],
   "source": [
    "#create family_status flag\n",
    "Instacart_final.loc[Instacart_final['no_of_dependants'] <1,'family_status'] = 'single adult'\n",
    "Instacart_final.loc[Instacart_final['no_of_dependants'] > 0,'family_status'] = 'parent'"
   ]
  },
  {
   "cell_type": "code",
   "execution_count": 28,
   "id": "11e369e2",
   "metadata": {},
   "outputs": [
    {
     "data": {
      "text/plain": [
       "parent          23224883\n",
       "single adult     7739681\n",
       "Name: family_status, dtype: int64"
      ]
     },
     "execution_count": 28,
     "metadata": {},
     "output_type": "execute_result"
    }
   ],
   "source": [
    "#check frequency of 'family_status' flag \n",
    "Instacart_final['family_status'].value_counts(dropna = False)"
   ]
  },
  {
   "cell_type": "code",
   "execution_count": 29,
   "id": "b9d2f9d2",
   "metadata": {},
   "outputs": [
    {
     "data": {
      "text/html": [
       "<div>\n",
       "<style scoped>\n",
       "    .dataframe tbody tr th:only-of-type {\n",
       "        vertical-align: middle;\n",
       "    }\n",
       "\n",
       "    .dataframe tbody tr th {\n",
       "        vertical-align: top;\n",
       "    }\n",
       "\n",
       "    .dataframe thead th {\n",
       "        text-align: right;\n",
       "    }\n",
       "</style>\n",
       "<table border=\"1\" class=\"dataframe\">\n",
       "  <thead>\n",
       "    <tr style=\"text-align: right;\">\n",
       "      <th></th>\n",
       "      <th>order_id</th>\n",
       "      <th>user_id</th>\n",
       "      <th>order_number</th>\n",
       "      <th>orders_day_of_week</th>\n",
       "      <th>order_hour_of_day</th>\n",
       "      <th>days_since_prior_order</th>\n",
       "      <th>product_id</th>\n",
       "      <th>add_to_cart_order</th>\n",
       "      <th>reordered</th>\n",
       "      <th>_merge</th>\n",
       "      <th>product_name</th>\n",
       "      <th>aisle_id</th>\n",
       "      <th>department_id</th>\n",
       "      <th>prices</th>\n",
       "      <th>price_range_loc</th>\n",
       "      <th>busiest_day</th>\n",
       "      <th>busiest_days</th>\n",
       "      <th>busiest_period_of_day</th>\n",
       "      <th>max_order</th>\n",
       "      <th>loyalty_flag</th>\n",
       "      <th>mean_prices</th>\n",
       "      <th>spending_flag</th>\n",
       "      <th>median_days_since_prior_order</th>\n",
       "      <th>order_frequency_flag</th>\n",
       "      <th>gender</th>\n",
       "      <th>state</th>\n",
       "      <th>age</th>\n",
       "      <th>date_joined</th>\n",
       "      <th>no_of_dependants</th>\n",
       "      <th>status</th>\n",
       "      <th>income</th>\n",
       "      <th>region</th>\n",
       "      <th>customer_revenue_rate</th>\n",
       "      <th>family_status</th>\n",
       "    </tr>\n",
       "  </thead>\n",
       "  <tbody>\n",
       "    <tr>\n",
       "      <th>32404850</th>\n",
       "      <td>3308056</td>\n",
       "      <td>106143</td>\n",
       "      <td>22</td>\n",
       "      <td>4</td>\n",
       "      <td>20</td>\n",
       "      <td>10.0</td>\n",
       "      <td>19675</td>\n",
       "      <td>1</td>\n",
       "      <td>1</td>\n",
       "      <td>both</td>\n",
       "      <td>Organic Raspberry Black Tea</td>\n",
       "      <td>94</td>\n",
       "      <td>7</td>\n",
       "      <td>10.7</td>\n",
       "      <td>Mid-range product</td>\n",
       "      <td>Least busy</td>\n",
       "      <td>Least busy days</td>\n",
       "      <td>Average orders</td>\n",
       "      <td>26</td>\n",
       "      <td>Regular customer</td>\n",
       "      <td>10.7</td>\n",
       "      <td>High spender</td>\n",
       "      <td>7.0</td>\n",
       "      <td>Frequent customer</td>\n",
       "      <td>Male</td>\n",
       "      <td>Hawaii</td>\n",
       "      <td>25</td>\n",
       "      <td>5/26/2017</td>\n",
       "      <td>0</td>\n",
       "      <td>single</td>\n",
       "      <td>53755</td>\n",
       "      <td>West</td>\n",
       "      <td>0.0</td>\n",
       "      <td>single adult</td>\n",
       "    </tr>\n",
       "    <tr>\n",
       "      <th>32404851</th>\n",
       "      <td>2988973</td>\n",
       "      <td>106143</td>\n",
       "      <td>23</td>\n",
       "      <td>2</td>\n",
       "      <td>22</td>\n",
       "      <td>5.0</td>\n",
       "      <td>19675</td>\n",
       "      <td>1</td>\n",
       "      <td>1</td>\n",
       "      <td>both</td>\n",
       "      <td>Organic Raspberry Black Tea</td>\n",
       "      <td>94</td>\n",
       "      <td>7</td>\n",
       "      <td>10.7</td>\n",
       "      <td>Mid-range product</td>\n",
       "      <td>Regularly busy</td>\n",
       "      <td>Regularly busy</td>\n",
       "      <td>Average orders</td>\n",
       "      <td>26</td>\n",
       "      <td>Regular customer</td>\n",
       "      <td>10.7</td>\n",
       "      <td>High spender</td>\n",
       "      <td>7.0</td>\n",
       "      <td>Frequent customer</td>\n",
       "      <td>Male</td>\n",
       "      <td>Hawaii</td>\n",
       "      <td>25</td>\n",
       "      <td>5/26/2017</td>\n",
       "      <td>0</td>\n",
       "      <td>single</td>\n",
       "      <td>53755</td>\n",
       "      <td>West</td>\n",
       "      <td>0.0</td>\n",
       "      <td>single adult</td>\n",
       "    </tr>\n",
       "    <tr>\n",
       "      <th>32404852</th>\n",
       "      <td>930</td>\n",
       "      <td>106143</td>\n",
       "      <td>24</td>\n",
       "      <td>6</td>\n",
       "      <td>12</td>\n",
       "      <td>4.0</td>\n",
       "      <td>19675</td>\n",
       "      <td>1</td>\n",
       "      <td>1</td>\n",
       "      <td>both</td>\n",
       "      <td>Organic Raspberry Black Tea</td>\n",
       "      <td>94</td>\n",
       "      <td>7</td>\n",
       "      <td>10.7</td>\n",
       "      <td>Mid-range product</td>\n",
       "      <td>Regularly busy</td>\n",
       "      <td>Regularly busy</td>\n",
       "      <td>Most orders</td>\n",
       "      <td>26</td>\n",
       "      <td>Regular customer</td>\n",
       "      <td>10.7</td>\n",
       "      <td>High spender</td>\n",
       "      <td>7.0</td>\n",
       "      <td>Frequent customer</td>\n",
       "      <td>Male</td>\n",
       "      <td>Hawaii</td>\n",
       "      <td>25</td>\n",
       "      <td>5/26/2017</td>\n",
       "      <td>0</td>\n",
       "      <td>single</td>\n",
       "      <td>53755</td>\n",
       "      <td>West</td>\n",
       "      <td>0.0</td>\n",
       "      <td>single adult</td>\n",
       "    </tr>\n",
       "    <tr>\n",
       "      <th>32404853</th>\n",
       "      <td>467253</td>\n",
       "      <td>106143</td>\n",
       "      <td>25</td>\n",
       "      <td>6</td>\n",
       "      <td>16</td>\n",
       "      <td>7.0</td>\n",
       "      <td>19675</td>\n",
       "      <td>1</td>\n",
       "      <td>1</td>\n",
       "      <td>both</td>\n",
       "      <td>Organic Raspberry Black Tea</td>\n",
       "      <td>94</td>\n",
       "      <td>7</td>\n",
       "      <td>10.7</td>\n",
       "      <td>Mid-range product</td>\n",
       "      <td>Regularly busy</td>\n",
       "      <td>Regularly busy</td>\n",
       "      <td>Most orders</td>\n",
       "      <td>26</td>\n",
       "      <td>Regular customer</td>\n",
       "      <td>10.7</td>\n",
       "      <td>High spender</td>\n",
       "      <td>7.0</td>\n",
       "      <td>Frequent customer</td>\n",
       "      <td>Male</td>\n",
       "      <td>Hawaii</td>\n",
       "      <td>25</td>\n",
       "      <td>5/26/2017</td>\n",
       "      <td>0</td>\n",
       "      <td>single</td>\n",
       "      <td>53755</td>\n",
       "      <td>West</td>\n",
       "      <td>0.0</td>\n",
       "      <td>single adult</td>\n",
       "    </tr>\n",
       "    <tr>\n",
       "      <th>32404854</th>\n",
       "      <td>156685</td>\n",
       "      <td>106143</td>\n",
       "      <td>26</td>\n",
       "      <td>4</td>\n",
       "      <td>23</td>\n",
       "      <td>5.0</td>\n",
       "      <td>19675</td>\n",
       "      <td>1</td>\n",
       "      <td>1</td>\n",
       "      <td>both</td>\n",
       "      <td>Organic Raspberry Black Tea</td>\n",
       "      <td>94</td>\n",
       "      <td>7</td>\n",
       "      <td>10.7</td>\n",
       "      <td>Mid-range product</td>\n",
       "      <td>Least busy</td>\n",
       "      <td>Least busy days</td>\n",
       "      <td>Average orders</td>\n",
       "      <td>26</td>\n",
       "      <td>Regular customer</td>\n",
       "      <td>10.7</td>\n",
       "      <td>High spender</td>\n",
       "      <td>7.0</td>\n",
       "      <td>Frequent customer</td>\n",
       "      <td>Male</td>\n",
       "      <td>Hawaii</td>\n",
       "      <td>25</td>\n",
       "      <td>5/26/2017</td>\n",
       "      <td>0</td>\n",
       "      <td>single</td>\n",
       "      <td>53755</td>\n",
       "      <td>West</td>\n",
       "      <td>0.0</td>\n",
       "      <td>single adult</td>\n",
       "    </tr>\n",
       "  </tbody>\n",
       "</table>\n",
       "</div>"
      ],
      "text/plain": [
       "          order_id  user_id  order_number  orders_day_of_week  \\\n",
       "32404850   3308056   106143            22                   4   \n",
       "32404851   2988973   106143            23                   2   \n",
       "32404852       930   106143            24                   6   \n",
       "32404853    467253   106143            25                   6   \n",
       "32404854    156685   106143            26                   4   \n",
       "\n",
       "          order_hour_of_day  days_since_prior_order  product_id  \\\n",
       "32404850                 20                    10.0       19675   \n",
       "32404851                 22                     5.0       19675   \n",
       "32404852                 12                     4.0       19675   \n",
       "32404853                 16                     7.0       19675   \n",
       "32404854                 23                     5.0       19675   \n",
       "\n",
       "          add_to_cart_order  reordered _merge                 product_name  \\\n",
       "32404850                  1          1   both  Organic Raspberry Black Tea   \n",
       "32404851                  1          1   both  Organic Raspberry Black Tea   \n",
       "32404852                  1          1   both  Organic Raspberry Black Tea   \n",
       "32404853                  1          1   both  Organic Raspberry Black Tea   \n",
       "32404854                  1          1   both  Organic Raspberry Black Tea   \n",
       "\n",
       "          aisle_id  department_id  prices    price_range_loc     busiest_day  \\\n",
       "32404850        94              7    10.7  Mid-range product      Least busy   \n",
       "32404851        94              7    10.7  Mid-range product  Regularly busy   \n",
       "32404852        94              7    10.7  Mid-range product  Regularly busy   \n",
       "32404853        94              7    10.7  Mid-range product  Regularly busy   \n",
       "32404854        94              7    10.7  Mid-range product      Least busy   \n",
       "\n",
       "             busiest_days busiest_period_of_day  max_order      loyalty_flag  \\\n",
       "32404850  Least busy days        Average orders         26  Regular customer   \n",
       "32404851   Regularly busy        Average orders         26  Regular customer   \n",
       "32404852   Regularly busy           Most orders         26  Regular customer   \n",
       "32404853   Regularly busy           Most orders         26  Regular customer   \n",
       "32404854  Least busy days        Average orders         26  Regular customer   \n",
       "\n",
       "          mean_prices spending_flag  median_days_since_prior_order  \\\n",
       "32404850         10.7  High spender                            7.0   \n",
       "32404851         10.7  High spender                            7.0   \n",
       "32404852         10.7  High spender                            7.0   \n",
       "32404853         10.7  High spender                            7.0   \n",
       "32404854         10.7  High spender                            7.0   \n",
       "\n",
       "         order_frequency_flag gender   state  age date_joined  \\\n",
       "32404850    Frequent customer   Male  Hawaii   25   5/26/2017   \n",
       "32404851    Frequent customer   Male  Hawaii   25   5/26/2017   \n",
       "32404852    Frequent customer   Male  Hawaii   25   5/26/2017   \n",
       "32404853    Frequent customer   Male  Hawaii   25   5/26/2017   \n",
       "32404854    Frequent customer   Male  Hawaii   25   5/26/2017   \n",
       "\n",
       "          no_of_dependants  status  income region  customer_revenue_rate  \\\n",
       "32404850                 0  single   53755   West                    0.0   \n",
       "32404851                 0  single   53755   West                    0.0   \n",
       "32404852                 0  single   53755   West                    0.0   \n",
       "32404853                 0  single   53755   West                    0.0   \n",
       "32404854                 0  single   53755   West                    0.0   \n",
       "\n",
       "         family_status  \n",
       "32404850  single adult  \n",
       "32404851  single adult  \n",
       "32404852  single adult  \n",
       "32404853  single adult  \n",
       "32404854  single adult  "
      ]
     },
     "execution_count": 29,
     "metadata": {},
     "output_type": "execute_result"
    }
   ],
   "source": [
    "#confirm flag\n",
    "Instacart_final.tail(5)"
   ]
  },
  {
   "cell_type": "code",
   "execution_count": 31,
   "id": "523af554",
   "metadata": {},
   "outputs": [],
   "source": [
    "#create age_group flag\n",
    "Instacart_final.loc[(Instacart_final['age'] > 17) & (Instacart_final['age'] <25),'age_group'] = 'young adult'\n",
    "Instacart_final.loc[(Instacart_final['age'] >= 25) & (Instacart_final['age'] <45),'age_group'] = 'adult'\n",
    "Instacart_final.loc[(Instacart_final['age'] >= 45) & (Instacart_final['age'] <65),'age_group'] = 'middle aged'\n",
    "Instacart_final.loc[Instacart_final['age'] >= 65,'age_group'] = 'senior'"
   ]
  },
  {
   "cell_type": "code",
   "execution_count": 32,
   "id": "e242f923",
   "metadata": {},
   "outputs": [
    {
     "data": {
      "text/plain": [
       "middle aged    9690051\n",
       "adult          9663775\n",
       "senior         8195544\n",
       "young adult    3415194\n",
       "Name: age_group, dtype: int64"
      ]
     },
     "execution_count": 32,
     "metadata": {},
     "output_type": "execute_result"
    }
   ],
   "source": [
    "#check frequency of 'family_status' flag \n",
    "Instacart_final['age_group'].value_counts(dropna = False)"
   ]
  },
  {
   "cell_type": "code",
   "execution_count": 34,
   "id": "ca093a90",
   "metadata": {},
   "outputs": [],
   "source": [
    "#create income_category flag\n",
    "Instacart_final.loc[(Instacart_final['income'] >= 24000) & (Instacart_final['income'] <39000),'income_category'] = 'extremly low income'\n",
    "Instacart_final.loc[(Instacart_final['income'] >= 39000) & (Instacart_final['income'] <63000),'income_category'] = 'very Low income'\n",
    "Instacart_final.loc[(Instacart_final['income'] >= 63000) & (Instacart_final['income'] <71000),'income_category'] = 'low Income'\n",
    "Instacart_final.loc[(Instacart_final['income'] >= 71000) & (Instacart_final['income'] <86000),'income_category'] = 'median Income'\n",
    "Instacart_final.loc[(Instacart_final['income'] >= 86000) & (Instacart_final['income'] <100000),'income_category'] = 'moderate income'\n",
    "Instacart_final.loc[Instacart_final['income'] >= 100000,'income_category'] = 'high income'"
   ]
  },
  {
   "cell_type": "code",
   "execution_count": 35,
   "id": "de86dc4c",
   "metadata": {},
   "outputs": [
    {
     "data": {
      "text/plain": [
       "high income            14207402\n",
       "very Low income         5085198\n",
       "moderate income         4474408\n",
       "median Income           3483048\n",
       "low Income              2252721\n",
       "extremly low income     1461787\n",
       "Name: income_category, dtype: int64"
      ]
     },
     "execution_count": 35,
     "metadata": {},
     "output_type": "execute_result"
    }
   ],
   "source": [
    "#check frequency of 'income_category' flag \n",
    "Instacart_final['income_category'].value_counts(dropna = False)"
   ]
  },
  {
   "cell_type": "code",
   "execution_count": 37,
   "id": "4a9a776d",
   "metadata": {},
   "outputs": [],
   "source": [
    "#create indicative_goods flag - (Bulk and baby items)\n",
    "Instacart_final.loc[(Instacart_final['department_id'] == 10) ,'indicative_goods'] = 'bulk purchases'\n",
    "Instacart_final.loc[(Instacart_final['department_id'] == 18) ,'indicative_goods'] = 'baby purchases'"
   ]
  },
  {
   "cell_type": "code",
   "execution_count": 38,
   "id": "2fe45454",
   "metadata": {},
   "outputs": [
    {
     "data": {
      "text/plain": [
       "NaN               30520721\n",
       "baby purchases      410392\n",
       "bulk purchases       33451\n",
       "Name: indicative_goods, dtype: int64"
      ]
     },
     "execution_count": 38,
     "metadata": {},
     "output_type": "execute_result"
    }
   ],
   "source": [
    "Instacart_final['indicative_goods'].value_counts(dropna = False)"
   ]
  },
  {
   "cell_type": "code",
   "execution_count": 39,
   "id": "99b47683",
   "metadata": {},
   "outputs": [
    {
     "data": {
      "image/png": "[encoded data removed]",
      "text/plain": [
       "<Figure size 640x480 with 1 Axes>"
      ]
     },
     "metadata": {},
     "output_type": "display_data"
    }
   ],
   "source": [
    "#create bar chart of 'income_category'\n",
    "bar_income = Instacart_final['income_category'].value_counts().plot.bar(color =['purple','magenta', 'blue', 'cyan', 'green','grey'])"
   ]
  },
  {
   "cell_type": "markdown",
   "id": "f034f713",
   "metadata": {},
   "source": [
    "visualization showing the distribution of profiles"
   ]
  },
  {
   "cell_type": "code",
   "execution_count": 40,
   "id": "5d054d0f",
   "metadata": {},
   "outputs": [
    {
     "data": {
      "image/png": "[encoded data removed]",
      "text/plain": [
       "<Figure size 640x480 with 1 Axes>"
      ]
     },
     "metadata": {},
     "output_type": "display_data"
    }
   ],
   "source": [
    "#create bar chart of 'age_group'\n",
    "bar_age = Instacart_final['age_group'].value_counts().plot.bar(color =['purple','red','orange', 'yellow', 'grey'])"
   ]
  },
  {
   "cell_type": "code",
   "execution_count": 41,
   "id": "e0c44eb7",
   "metadata": {},
   "outputs": [
    {
     "data": {
      "image/png": "[encoded data removed]",
      "text/plain": [
       "<Figure size 640x480 with 1 Axes>"
      ]
     },
     "metadata": {},
     "output_type": "display_data"
    }
   ],
   "source": [
    "#create pie chart of 'family_status'\n",
    "pie_family = Instacart_final['family_status'].value_counts().plot.pie(labels = ['single adult', 'parent'], colors =['green','yellow'])"
   ]
  },
  {
   "cell_type": "markdown",
   "id": "50422ec1",
   "metadata": {},
   "source": [
    "Aggregate on a customer-profile level for usage frequency and expenditure."
   ]
  },
  {
   "cell_type": "code",
   "execution_count": 42,
   "id": "f08991ab",
   "metadata": {},
   "outputs": [
    {
     "data": {
      "text/html": [
       "<div>\n",
       "<style scoped>\n",
       "    .dataframe tbody tr th:only-of-type {\n",
       "        vertical-align: middle;\n",
       "    }\n",
       "\n",
       "    .dataframe tbody tr th {\n",
       "        vertical-align: top;\n",
       "    }\n",
       "\n",
       "    .dataframe thead tr th {\n",
       "        text-align: left;\n",
       "    }\n",
       "\n",
       "    .dataframe thead tr:last-of-type th {\n",
       "        text-align: right;\n",
       "    }\n",
       "</style>\n",
       "<table border=\"1\" class=\"dataframe\">\n",
       "  <thead>\n",
       "    <tr>\n",
       "      <th></th>\n",
       "      <th colspan=\"3\" halign=\"left\">order_hour_of_day</th>\n",
       "    </tr>\n",
       "    <tr>\n",
       "      <th></th>\n",
       "      <th>min</th>\n",
       "      <th>max</th>\n",
       "      <th>mean</th>\n",
       "    </tr>\n",
       "    <tr>\n",
       "      <th>age_group</th>\n",
       "      <th></th>\n",
       "      <th></th>\n",
       "      <th></th>\n",
       "    </tr>\n",
       "  </thead>\n",
       "  <tbody>\n",
       "    <tr>\n",
       "      <th>adult</th>\n",
       "      <td>0</td>\n",
       "      <td>23</td>\n",
       "      <td>13.409085</td>\n",
       "    </tr>\n",
       "    <tr>\n",
       "      <th>middle aged</th>\n",
       "      <td>0</td>\n",
       "      <td>23</td>\n",
       "      <td>13.420086</td>\n",
       "    </tr>\n",
       "    <tr>\n",
       "      <th>senior</th>\n",
       "      <td>0</td>\n",
       "      <td>23</td>\n",
       "      <td>13.412806</td>\n",
       "    </tr>\n",
       "    <tr>\n",
       "      <th>young adult</th>\n",
       "      <td>0</td>\n",
       "      <td>23</td>\n",
       "      <td>13.386135</td>\n",
       "    </tr>\n",
       "  </tbody>\n",
       "</table>\n",
       "</div>"
      ],
      "text/plain": [
       "            order_hour_of_day               \n",
       "                          min max       mean\n",
       "age_group                                   \n",
       "adult                       0  23  13.409085\n",
       "middle aged                 0  23  13.420086\n",
       "senior                      0  23  13.412806\n",
       "young adult                 0  23  13.386135"
      ]
     },
     "execution_count": 42,
     "metadata": {},
     "output_type": "execute_result"
    }
   ],
   "source": [
    "# compare order_hour_of_day by age_group\n",
    "Instacart_final.groupby('age_group').agg({'order_hour_of_day': ['min', 'max', 'mean']})"
   ]
  },
  {
   "cell_type": "code",
   "execution_count": 43,
   "id": "f8cc5e5d",
   "metadata": {},
   "outputs": [
    {
     "data": {
      "text/html": [
       "<div>\n",
       "<style scoped>\n",
       "    .dataframe tbody tr th:only-of-type {\n",
       "        vertical-align: middle;\n",
       "    }\n",
       "\n",
       "    .dataframe tbody tr th {\n",
       "        vertical-align: top;\n",
       "    }\n",
       "\n",
       "    .dataframe thead tr th {\n",
       "        text-align: left;\n",
       "    }\n",
       "\n",
       "    .dataframe thead tr:last-of-type th {\n",
       "        text-align: right;\n",
       "    }\n",
       "</style>\n",
       "<table border=\"1\" class=\"dataframe\">\n",
       "  <thead>\n",
       "    <tr>\n",
       "      <th></th>\n",
       "      <th colspan=\"3\" halign=\"left\">order_hour_of_day</th>\n",
       "    </tr>\n",
       "    <tr>\n",
       "      <th></th>\n",
       "      <th>min</th>\n",
       "      <th>max</th>\n",
       "      <th>mean</th>\n",
       "    </tr>\n",
       "    <tr>\n",
       "      <th>family_status</th>\n",
       "      <th></th>\n",
       "      <th></th>\n",
       "      <th></th>\n",
       "    </tr>\n",
       "  </thead>\n",
       "  <tbody>\n",
       "    <tr>\n",
       "      <th>parent</th>\n",
       "      <td>0</td>\n",
       "      <td>23</td>\n",
       "      <td>13.407581</td>\n",
       "    </tr>\n",
       "    <tr>\n",
       "      <th>single adult</th>\n",
       "      <td>0</td>\n",
       "      <td>23</td>\n",
       "      <td>13.421183</td>\n",
       "    </tr>\n",
       "  </tbody>\n",
       "</table>\n",
       "</div>"
      ],
      "text/plain": [
       "              order_hour_of_day               \n",
       "                            min max       mean\n",
       "family_status                                 \n",
       "parent                        0  23  13.407581\n",
       "single adult                  0  23  13.421183"
      ]
     },
     "execution_count": 43,
     "metadata": {},
     "output_type": "execute_result"
    }
   ],
   "source": [
    "# compare order_hour_of_day by family_status\n",
    "Instacart_final.groupby('family_status').agg({'order_hour_of_day': ['min', 'max', 'mean']})"
   ]
  },
  {
   "cell_type": "code",
   "execution_count": 44,
   "id": "5486a361",
   "metadata": {},
   "outputs": [
    {
     "data": {
      "text/html": [
       "<div>\n",
       "<style scoped>\n",
       "    .dataframe tbody tr th:only-of-type {\n",
       "        vertical-align: middle;\n",
       "    }\n",
       "\n",
       "    .dataframe tbody tr th {\n",
       "        vertical-align: top;\n",
       "    }\n",
       "\n",
       "    .dataframe thead tr th {\n",
       "        text-align: left;\n",
       "    }\n",
       "\n",
       "    .dataframe thead tr:last-of-type th {\n",
       "        text-align: right;\n",
       "    }\n",
       "</style>\n",
       "<table border=\"1\" class=\"dataframe\">\n",
       "  <thead>\n",
       "    <tr>\n",
       "      <th></th>\n",
       "      <th colspan=\"3\" halign=\"left\">income</th>\n",
       "    </tr>\n",
       "    <tr>\n",
       "      <th></th>\n",
       "      <th>min</th>\n",
       "      <th>max</th>\n",
       "      <th>mean</th>\n",
       "    </tr>\n",
       "    <tr>\n",
       "      <th>family_status</th>\n",
       "      <th></th>\n",
       "      <th></th>\n",
       "      <th></th>\n",
       "    </tr>\n",
       "  </thead>\n",
       "  <tbody>\n",
       "    <tr>\n",
       "      <th>parent</th>\n",
       "      <td>25911</td>\n",
       "      <td>593901</td>\n",
       "      <td>99602.238016</td>\n",
       "    </tr>\n",
       "    <tr>\n",
       "      <th>single adult</th>\n",
       "      <td>25903</td>\n",
       "      <td>584097</td>\n",
       "      <td>99896.801937</td>\n",
       "    </tr>\n",
       "  </tbody>\n",
       "</table>\n",
       "</div>"
      ],
      "text/plain": [
       "              income                      \n",
       "                 min     max          mean\n",
       "family_status                             \n",
       "parent         25911  593901  99602.238016\n",
       "single adult   25903  584097  99896.801937"
      ]
     },
     "execution_count": 44,
     "metadata": {},
     "output_type": "execute_result"
    }
   ],
   "source": [
    "#compare income by family_status\n",
    "Instacart_final.groupby('family_status').agg({'income': ['min', 'max', 'mean']})"
   ]
  },
  {
   "cell_type": "code",
   "execution_count": 45,
   "id": "a36e5aed",
   "metadata": {},
   "outputs": [
    {
     "data": {
      "text/html": [
       "<div>\n",
       "<style scoped>\n",
       "    .dataframe tbody tr th:only-of-type {\n",
       "        vertical-align: middle;\n",
       "    }\n",
       "\n",
       "    .dataframe tbody tr th {\n",
       "        vertical-align: top;\n",
       "    }\n",
       "\n",
       "    .dataframe thead tr th {\n",
       "        text-align: left;\n",
       "    }\n",
       "\n",
       "    .dataframe thead tr:last-of-type th {\n",
       "        text-align: right;\n",
       "    }\n",
       "</style>\n",
       "<table border=\"1\" class=\"dataframe\">\n",
       "  <thead>\n",
       "    <tr>\n",
       "      <th></th>\n",
       "      <th colspan=\"3\" halign=\"left\">income</th>\n",
       "    </tr>\n",
       "    <tr>\n",
       "      <th></th>\n",
       "      <th>min</th>\n",
       "      <th>max</th>\n",
       "      <th>mean</th>\n",
       "    </tr>\n",
       "    <tr>\n",
       "      <th>age_group</th>\n",
       "      <th></th>\n",
       "      <th></th>\n",
       "      <th></th>\n",
       "    </tr>\n",
       "  </thead>\n",
       "  <tbody>\n",
       "    <tr>\n",
       "      <th>adult</th>\n",
       "      <td>25903</td>\n",
       "      <td>592409</td>\n",
       "      <td>79782.344533</td>\n",
       "    </tr>\n",
       "    <tr>\n",
       "      <th>middle aged</th>\n",
       "      <td>29018</td>\n",
       "      <td>591089</td>\n",
       "      <td>116010.015464</td>\n",
       "    </tr>\n",
       "    <tr>\n",
       "      <th>senior</th>\n",
       "      <td>29001</td>\n",
       "      <td>593901</td>\n",
       "      <td>115870.266216</td>\n",
       "    </tr>\n",
       "    <tr>\n",
       "      <th>young adult</th>\n",
       "      <td>25937</td>\n",
       "      <td>396364</td>\n",
       "      <td>70759.742029</td>\n",
       "    </tr>\n",
       "  </tbody>\n",
       "</table>\n",
       "</div>"
      ],
      "text/plain": [
       "            income                       \n",
       "               min     max           mean\n",
       "age_group                                \n",
       "adult        25903  592409   79782.344533\n",
       "middle aged  29018  591089  116010.015464\n",
       "senior       29001  593901  115870.266216\n",
       "young adult  25937  396364   70759.742029"
      ]
     },
     "execution_count": 45,
     "metadata": {},
     "output_type": "execute_result"
    }
   ],
   "source": [
    "#compare income by age_group\n",
    "Instacart_final.groupby('age_group').agg({'income': ['min', 'max', 'mean']})"
   ]
  },
  {
   "cell_type": "code",
   "execution_count": 46,
   "id": "94b062c0",
   "metadata": {},
   "outputs": [
    {
     "data": {
      "text/html": [
       "<div>\n",
       "<style scoped>\n",
       "    .dataframe tbody tr th:only-of-type {\n",
       "        vertical-align: middle;\n",
       "    }\n",
       "\n",
       "    .dataframe tbody tr th {\n",
       "        vertical-align: top;\n",
       "    }\n",
       "\n",
       "    .dataframe thead tr th {\n",
       "        text-align: left;\n",
       "    }\n",
       "\n",
       "    .dataframe thead tr:last-of-type th {\n",
       "        text-align: right;\n",
       "    }\n",
       "</style>\n",
       "<table border=\"1\" class=\"dataframe\">\n",
       "  <thead>\n",
       "    <tr>\n",
       "      <th></th>\n",
       "      <th>indicative_goods</th>\n",
       "    </tr>\n",
       "    <tr>\n",
       "      <th></th>\n",
       "      <th>count</th>\n",
       "    </tr>\n",
       "    <tr>\n",
       "      <th>family_status</th>\n",
       "      <th></th>\n",
       "    </tr>\n",
       "  </thead>\n",
       "  <tbody>\n",
       "    <tr>\n",
       "      <th>parent</th>\n",
       "      <td>332515</td>\n",
       "    </tr>\n",
       "    <tr>\n",
       "      <th>single adult</th>\n",
       "      <td>111328</td>\n",
       "    </tr>\n",
       "  </tbody>\n",
       "</table>\n",
       "</div>"
      ],
      "text/plain": [
       "              indicative_goods\n",
       "                         count\n",
       "family_status                 \n",
       "parent                  332515\n",
       "single adult            111328"
      ]
     },
     "execution_count": 46,
     "metadata": {},
     "output_type": "execute_result"
    }
   ],
   "source": [
    "#compare indicative goods by family_status\n",
    "Instacart_final.groupby('family_status').agg({'indicative_goods': ['count']})"
   ]
  },
  {
   "cell_type": "code",
   "execution_count": 50,
   "id": "7c959570",
   "metadata": {},
   "outputs": [
    {
     "data": {
      "text/plain": [
       "4     9079273\n",
       "16    5177182\n",
       "19    2766406\n",
       "7     2571901\n",
       "1     2121731\n",
       "13    1782705\n",
       "3     1120828\n",
       "15    1012074\n",
       "20    1003834\n",
       "9      822136\n",
       "17     699857\n",
       "12     674781\n",
       "14     670850\n",
       "11     424306\n",
       "18     410392\n",
       "6      255991\n",
       "5      144627\n",
       "8       93060\n",
       "21      64768\n",
       "2       34411\n",
       "10      33451\n",
       "Name: department_id, dtype: int64"
      ]
     },
     "execution_count": 50,
     "metadata": {},
     "output_type": "execute_result"
    }
   ],
   "source": [
    "#department frequency\n",
    "Instacart_final['department_id'].value_counts(dropna = False)"
   ]
  },
  {
   "cell_type": "code",
   "execution_count": 51,
   "id": "078bdf89",
   "metadata": {},
   "outputs": [
    {
     "data": {
      "text/html": [
       "<div>\n",
       "<style scoped>\n",
       "    .dataframe tbody tr th:only-of-type {\n",
       "        vertical-align: middle;\n",
       "    }\n",
       "\n",
       "    .dataframe tbody tr th {\n",
       "        vertical-align: top;\n",
       "    }\n",
       "\n",
       "    .dataframe thead tr th {\n",
       "        text-align: left;\n",
       "    }\n",
       "\n",
       "    .dataframe thead tr:last-of-type th {\n",
       "        text-align: right;\n",
       "    }\n",
       "</style>\n",
       "<table border=\"1\" class=\"dataframe\">\n",
       "  <thead>\n",
       "    <tr>\n",
       "      <th></th>\n",
       "      <th>order_number</th>\n",
       "    </tr>\n",
       "    <tr>\n",
       "      <th></th>\n",
       "      <th>count</th>\n",
       "    </tr>\n",
       "    <tr>\n",
       "      <th>family_status</th>\n",
       "      <th></th>\n",
       "    </tr>\n",
       "  </thead>\n",
       "  <tbody>\n",
       "    <tr>\n",
       "      <th>parent</th>\n",
       "      <td>23224883</td>\n",
       "    </tr>\n",
       "    <tr>\n",
       "      <th>single adult</th>\n",
       "      <td>7739681</td>\n",
       "    </tr>\n",
       "  </tbody>\n",
       "</table>\n",
       "</div>"
      ],
      "text/plain": [
       "              order_number\n",
       "                     count\n",
       "family_status             \n",
       "parent            23224883\n",
       "single adult       7739681"
      ]
     },
     "execution_count": 51,
     "metadata": {},
     "output_type": "execute_result"
    }
   ],
   "source": [
    "#compare number of orders by family_status\n",
    "Instacart_final.groupby('family_status').agg({'order_number': ['count']})"
   ]
  },
  {
   "cell_type": "code",
   "execution_count": 52,
   "id": "dce2e6ea",
   "metadata": {},
   "outputs": [
    {
     "data": {
      "text/html": [
       "<div>\n",
       "<style scoped>\n",
       "    .dataframe tbody tr th:only-of-type {\n",
       "        vertical-align: middle;\n",
       "    }\n",
       "\n",
       "    .dataframe tbody tr th {\n",
       "        vertical-align: top;\n",
       "    }\n",
       "\n",
       "    .dataframe thead tr th {\n",
       "        text-align: left;\n",
       "    }\n",
       "\n",
       "    .dataframe thead tr:last-of-type th {\n",
       "        text-align: right;\n",
       "    }\n",
       "</style>\n",
       "<table border=\"1\" class=\"dataframe\">\n",
       "  <thead>\n",
       "    <tr>\n",
       "      <th></th>\n",
       "      <th colspan=\"3\" halign=\"left\">mean_prices</th>\n",
       "    </tr>\n",
       "    <tr>\n",
       "      <th></th>\n",
       "      <th>min</th>\n",
       "      <th>max</th>\n",
       "      <th>mean</th>\n",
       "    </tr>\n",
       "    <tr>\n",
       "      <th>age_group</th>\n",
       "      <th></th>\n",
       "      <th></th>\n",
       "      <th></th>\n",
       "    </tr>\n",
       "  </thead>\n",
       "  <tbody>\n",
       "    <tr>\n",
       "      <th>adult</th>\n",
       "      <td>1.0000</td>\n",
       "      <td>6983.593023</td>\n",
       "      <td>11.722935</td>\n",
       "    </tr>\n",
       "    <tr>\n",
       "      <th>middle aged</th>\n",
       "      <td>1.0000</td>\n",
       "      <td>15006.940000</td>\n",
       "      <td>12.112030</td>\n",
       "    </tr>\n",
       "    <tr>\n",
       "      <th>senior</th>\n",
       "      <td>1.2625</td>\n",
       "      <td>14042.512281</td>\n",
       "      <td>11.757768</td>\n",
       "    </tr>\n",
       "    <tr>\n",
       "      <th>young adult</th>\n",
       "      <td>2.0000</td>\n",
       "      <td>10209.987755</td>\n",
       "      <td>12.444676</td>\n",
       "    </tr>\n",
       "  </tbody>\n",
       "</table>\n",
       "</div>"
      ],
      "text/plain": [
       "            mean_prices                         \n",
       "                    min           max       mean\n",
       "age_group                                       \n",
       "adult            1.0000   6983.593023  11.722935\n",
       "middle aged      1.0000  15006.940000  12.112030\n",
       "senior           1.2625  14042.512281  11.757768\n",
       "young adult      2.0000  10209.987755  12.444676"
      ]
     },
     "execution_count": 52,
     "metadata": {},
     "output_type": "execute_result"
    }
   ],
   "source": [
    "#compare mean_prices by age_group\n",
    "Instacart_final.groupby('age_group').agg({'mean_prices': ['min', 'max', 'mean']})"
   ]
  },
  {
   "cell_type": "markdown",
   "id": "8d24c2bc",
   "metadata": {},
   "source": [
    "Comparison customer profiles with regions and departments"
   ]
  },
  {
   "cell_type": "code",
   "execution_count": 53,
   "id": "fa388e76",
   "metadata": {},
   "outputs": [
    {
     "data": {
      "text/html": [
       "<div>\n",
       "<style scoped>\n",
       "    .dataframe tbody tr th:only-of-type {\n",
       "        vertical-align: middle;\n",
       "    }\n",
       "\n",
       "    .dataframe tbody tr th {\n",
       "        vertical-align: top;\n",
       "    }\n",
       "\n",
       "    .dataframe thead tr th {\n",
       "        text-align: left;\n",
       "    }\n",
       "\n",
       "    .dataframe thead tr:last-of-type th {\n",
       "        text-align: right;\n",
       "    }\n",
       "</style>\n",
       "<table border=\"1\" class=\"dataframe\">\n",
       "  <thead>\n",
       "    <tr>\n",
       "      <th></th>\n",
       "      <th>max_order</th>\n",
       "    </tr>\n",
       "    <tr>\n",
       "      <th></th>\n",
       "      <th>count</th>\n",
       "    </tr>\n",
       "    <tr>\n",
       "      <th>region</th>\n",
       "      <th></th>\n",
       "    </tr>\n",
       "  </thead>\n",
       "  <tbody>\n",
       "    <tr>\n",
       "      <th>Midwest</th>\n",
       "      <td>7261513</td>\n",
       "    </tr>\n",
       "    <tr>\n",
       "      <th>Northeast</th>\n",
       "      <td>4856020</td>\n",
       "    </tr>\n",
       "    <tr>\n",
       "      <th>South</th>\n",
       "      <td>10311139</td>\n",
       "    </tr>\n",
       "    <tr>\n",
       "      <th>West</th>\n",
       "      <td>7927227</td>\n",
       "    </tr>\n",
       "  </tbody>\n",
       "</table>\n",
       "</div>"
      ],
      "text/plain": [
       "          max_order\n",
       "              count\n",
       "region             \n",
       "Midwest     7261513\n",
       "Northeast   4856020\n",
       "South      10311139\n",
       "West        7927227"
      ]
     },
     "execution_count": 53,
     "metadata": {},
     "output_type": "execute_result"
    }
   ],
   "source": [
    "#compare max number of orders by region\n",
    "Instacart_final.groupby('region').agg({'max_order': ['count']})"
   ]
  },
  {
   "cell_type": "code",
   "execution_count": 54,
   "id": "9981bd57",
   "metadata": {},
   "outputs": [],
   "source": [
    "#compare number of income_category by region\n",
    "crosstab_region_income = pd.crosstab(Instacart_final['region'], Instacart_final['income_category'], dropna = False)"
   ]
  },
  {
   "cell_type": "code",
   "execution_count": 55,
   "id": "aa0d2ff7",
   "metadata": {},
   "outputs": [
    {
     "data": {
      "text/html": [
       "<div>\n",
       "<style scoped>\n",
       "    .dataframe tbody tr th:only-of-type {\n",
       "        vertical-align: middle;\n",
       "    }\n",
       "\n",
       "    .dataframe tbody tr th {\n",
       "        vertical-align: top;\n",
       "    }\n",
       "\n",
       "    .dataframe thead th {\n",
       "        text-align: right;\n",
       "    }\n",
       "</style>\n",
       "<table border=\"1\" class=\"dataframe\">\n",
       "  <thead>\n",
       "    <tr style=\"text-align: right;\">\n",
       "      <th>income_category</th>\n",
       "      <th>extremly low income</th>\n",
       "      <th>high income</th>\n",
       "      <th>low Income</th>\n",
       "      <th>median Income</th>\n",
       "      <th>moderate income</th>\n",
       "      <th>very Low income</th>\n",
       "    </tr>\n",
       "    <tr>\n",
       "      <th>region</th>\n",
       "      <th></th>\n",
       "      <th></th>\n",
       "      <th></th>\n",
       "      <th></th>\n",
       "      <th></th>\n",
       "      <th></th>\n",
       "    </tr>\n",
       "  </thead>\n",
       "  <tbody>\n",
       "    <tr>\n",
       "      <th>Midwest</th>\n",
       "      <td>341454</td>\n",
       "      <td>3400093</td>\n",
       "      <td>530452</td>\n",
       "      <td>802061</td>\n",
       "      <td>1017827</td>\n",
       "      <td>1169626</td>\n",
       "    </tr>\n",
       "    <tr>\n",
       "      <th>Northeast</th>\n",
       "      <td>224488</td>\n",
       "      <td>2238933</td>\n",
       "      <td>331912</td>\n",
       "      <td>550070</td>\n",
       "      <td>707494</td>\n",
       "      <td>803123</td>\n",
       "    </tr>\n",
       "    <tr>\n",
       "      <th>South</th>\n",
       "      <td>503367</td>\n",
       "      <td>4663945</td>\n",
       "      <td>730162</td>\n",
       "      <td>1198974</td>\n",
       "      <td>1507414</td>\n",
       "      <td>1707277</td>\n",
       "    </tr>\n",
       "    <tr>\n",
       "      <th>West</th>\n",
       "      <td>360679</td>\n",
       "      <td>3626880</td>\n",
       "      <td>614802</td>\n",
       "      <td>862233</td>\n",
       "      <td>1150006</td>\n",
       "      <td>1312627</td>\n",
       "    </tr>\n",
       "  </tbody>\n",
       "</table>\n",
       "</div>"
      ],
      "text/plain": [
       "income_category  extremly low income  high income  low Income  median Income  \\\n",
       "region                                                                         \n",
       "Midwest                       341454      3400093      530452         802061   \n",
       "Northeast                     224488      2238933      331912         550070   \n",
       "South                         503367      4663945      730162        1198974   \n",
       "West                          360679      3626880      614802         862233   \n",
       "\n",
       "income_category  moderate income  very Low income  \n",
       "region                                             \n",
       "Midwest                  1017827          1169626  \n",
       "Northeast                 707494           803123  \n",
       "South                    1507414          1707277  \n",
       "West                     1150006          1312627  "
      ]
     },
     "execution_count": 55,
     "metadata": {},
     "output_type": "execute_result"
    }
   ],
   "source": [
    "crosstab_region_income"
   ]
  },
  {
   "cell_type": "code",
   "execution_count": 56,
   "id": "bc68f976",
   "metadata": {},
   "outputs": [],
   "source": [
    "#compare age_group by region\n",
    "crosstab_region_age = pd.crosstab(Instacart_final['age_group'], Instacart_final['region'], dropna = False)"
   ]
  },
  {
   "cell_type": "code",
   "execution_count": 57,
   "id": "54694257",
   "metadata": {},
   "outputs": [
    {
     "data": {
      "text/html": [
       "<div>\n",
       "<style scoped>\n",
       "    .dataframe tbody tr th:only-of-type {\n",
       "        vertical-align: middle;\n",
       "    }\n",
       "\n",
       "    .dataframe tbody tr th {\n",
       "        vertical-align: top;\n",
       "    }\n",
       "\n",
       "    .dataframe thead th {\n",
       "        text-align: right;\n",
       "    }\n",
       "</style>\n",
       "<table border=\"1\" class=\"dataframe\">\n",
       "  <thead>\n",
       "    <tr style=\"text-align: right;\">\n",
       "      <th>region</th>\n",
       "      <th>Midwest</th>\n",
       "      <th>Northeast</th>\n",
       "      <th>South</th>\n",
       "      <th>West</th>\n",
       "    </tr>\n",
       "    <tr>\n",
       "      <th>age_group</th>\n",
       "      <th></th>\n",
       "      <th></th>\n",
       "      <th></th>\n",
       "      <th></th>\n",
       "    </tr>\n",
       "  </thead>\n",
       "  <tbody>\n",
       "    <tr>\n",
       "      <th>adult</th>\n",
       "      <td>2279362</td>\n",
       "      <td>1499961</td>\n",
       "      <td>3242576</td>\n",
       "      <td>2462360</td>\n",
       "    </tr>\n",
       "    <tr>\n",
       "      <th>middle aged</th>\n",
       "      <td>2286479</td>\n",
       "      <td>1509994</td>\n",
       "      <td>3194966</td>\n",
       "      <td>2510995</td>\n",
       "    </tr>\n",
       "    <tr>\n",
       "      <th>senior</th>\n",
       "      <td>1904046</td>\n",
       "      <td>1310996</td>\n",
       "      <td>2708461</td>\n",
       "      <td>2098230</td>\n",
       "    </tr>\n",
       "    <tr>\n",
       "      <th>young adult</th>\n",
       "      <td>791626</td>\n",
       "      <td>535069</td>\n",
       "      <td>1165136</td>\n",
       "      <td>855642</td>\n",
       "    </tr>\n",
       "  </tbody>\n",
       "</table>\n",
       "</div>"
      ],
      "text/plain": [
       "region       Midwest  Northeast    South     West\n",
       "age_group                                        \n",
       "adult        2279362    1499961  3242576  2462360\n",
       "middle aged  2286479    1509994  3194966  2510995\n",
       "senior       1904046    1310996  2708461  2098230\n",
       "young adult   791626     535069  1165136   855642"
      ]
     },
     "execution_count": 57,
     "metadata": {},
     "output_type": "execute_result"
    }
   ],
   "source": [
    "crosstab_region_age"
   ]
  },
  {
   "cell_type": "code",
   "execution_count": 58,
   "id": "1d5a9da5",
   "metadata": {},
   "outputs": [],
   "source": [
    "#compare spending flag by region\n",
    "crosstab_region_spending = pd.crosstab(Instacart_final['region'], Instacart_final['spending_flag'], dropna = False)"
   ]
  },
  {
   "cell_type": "code",
   "execution_count": 59,
   "id": "958b52e1",
   "metadata": {},
   "outputs": [
    {
     "data": {
      "text/html": [
       "<div>\n",
       "<style scoped>\n",
       "    .dataframe tbody tr th:only-of-type {\n",
       "        vertical-align: middle;\n",
       "    }\n",
       "\n",
       "    .dataframe tbody tr th {\n",
       "        vertical-align: top;\n",
       "    }\n",
       "\n",
       "    .dataframe thead th {\n",
       "        text-align: right;\n",
       "    }\n",
       "</style>\n",
       "<table border=\"1\" class=\"dataframe\">\n",
       "  <thead>\n",
       "    <tr style=\"text-align: right;\">\n",
       "      <th>spending_flag</th>\n",
       "      <th>High spender</th>\n",
       "      <th>Low spender</th>\n",
       "    </tr>\n",
       "    <tr>\n",
       "      <th>region</th>\n",
       "      <th></th>\n",
       "      <th></th>\n",
       "    </tr>\n",
       "  </thead>\n",
       "  <tbody>\n",
       "    <tr>\n",
       "      <th>Midwest</th>\n",
       "      <td>148678</td>\n",
       "      <td>7112835</td>\n",
       "    </tr>\n",
       "    <tr>\n",
       "      <th>Northeast</th>\n",
       "      <td>89517</td>\n",
       "      <td>4766503</td>\n",
       "    </tr>\n",
       "    <tr>\n",
       "      <th>South</th>\n",
       "      <td>199339</td>\n",
       "      <td>10111800</td>\n",
       "    </tr>\n",
       "    <tr>\n",
       "      <th>West</th>\n",
       "      <td>152288</td>\n",
       "      <td>7774939</td>\n",
       "    </tr>\n",
       "  </tbody>\n",
       "</table>\n",
       "</div>"
      ],
      "text/plain": [
       "spending_flag  High spender  Low spender\n",
       "region                                  \n",
       "Midwest              148678      7112835\n",
       "Northeast             89517      4766503\n",
       "South                199339     10111800\n",
       "West                 152288      7774939"
      ]
     },
     "execution_count": 59,
     "metadata": {},
     "output_type": "execute_result"
    }
   ],
   "source": [
    "crosstab_region_spending"
   ]
  },
  {
   "cell_type": "code",
   "execution_count": 60,
   "id": "d8a9944b",
   "metadata": {},
   "outputs": [],
   "source": [
    "#compare department by region\n",
    "crosstab_region_department = pd.crosstab(Instacart_final['region'], Instacart_final['department_id'], dropna = False)"
   ]
  },
  {
   "cell_type": "code",
   "execution_count": 61,
   "id": "127478f2",
   "metadata": {},
   "outputs": [
    {
     "data": {
      "text/html": [
       "<div>\n",
       "<style scoped>\n",
       "    .dataframe tbody tr th:only-of-type {\n",
       "        vertical-align: middle;\n",
       "    }\n",
       "\n",
       "    .dataframe tbody tr th {\n",
       "        vertical-align: top;\n",
       "    }\n",
       "\n",
       "    .dataframe thead th {\n",
       "        text-align: right;\n",
       "    }\n",
       "</style>\n",
       "<table border=\"1\" class=\"dataframe\">\n",
       "  <thead>\n",
       "    <tr style=\"text-align: right;\">\n",
       "      <th>department_id</th>\n",
       "      <th>1</th>\n",
       "      <th>2</th>\n",
       "      <th>3</th>\n",
       "      <th>4</th>\n",
       "      <th>5</th>\n",
       "      <th>6</th>\n",
       "      <th>7</th>\n",
       "      <th>8</th>\n",
       "      <th>9</th>\n",
       "      <th>10</th>\n",
       "      <th>11</th>\n",
       "      <th>12</th>\n",
       "      <th>13</th>\n",
       "      <th>14</th>\n",
       "      <th>15</th>\n",
       "      <th>16</th>\n",
       "      <th>17</th>\n",
       "      <th>18</th>\n",
       "      <th>19</th>\n",
       "      <th>20</th>\n",
       "      <th>21</th>\n",
       "    </tr>\n",
       "    <tr>\n",
       "      <th>region</th>\n",
       "      <th></th>\n",
       "      <th></th>\n",
       "      <th></th>\n",
       "      <th></th>\n",
       "      <th></th>\n",
       "      <th></th>\n",
       "      <th></th>\n",
       "      <th></th>\n",
       "      <th></th>\n",
       "      <th></th>\n",
       "      <th></th>\n",
       "      <th></th>\n",
       "      <th></th>\n",
       "      <th></th>\n",
       "      <th></th>\n",
       "      <th></th>\n",
       "      <th></th>\n",
       "      <th></th>\n",
       "      <th></th>\n",
       "      <th></th>\n",
       "      <th></th>\n",
       "    </tr>\n",
       "  </thead>\n",
       "  <tbody>\n",
       "    <tr>\n",
       "      <th>Midwest</th>\n",
       "      <td>498225</td>\n",
       "      <td>7983</td>\n",
       "      <td>261753</td>\n",
       "      <td>2134115</td>\n",
       "      <td>34043</td>\n",
       "      <td>60666</td>\n",
       "      <td>598979</td>\n",
       "      <td>21358</td>\n",
       "      <td>193463</td>\n",
       "      <td>7929</td>\n",
       "      <td>100398</td>\n",
       "      <td>158260</td>\n",
       "      <td>420334</td>\n",
       "      <td>156155</td>\n",
       "      <td>237459</td>\n",
       "      <td>1212490</td>\n",
       "      <td>166992</td>\n",
       "      <td>95741</td>\n",
       "      <td>645143</td>\n",
       "      <td>234464</td>\n",
       "      <td>15563</td>\n",
       "    </tr>\n",
       "    <tr>\n",
       "      <th>Northeast</th>\n",
       "      <td>330743</td>\n",
       "      <td>5451</td>\n",
       "      <td>177649</td>\n",
       "      <td>1413718</td>\n",
       "      <td>21804</td>\n",
       "      <td>39698</td>\n",
       "      <td>411225</td>\n",
       "      <td>15951</td>\n",
       "      <td>128697</td>\n",
       "      <td>4884</td>\n",
       "      <td>66179</td>\n",
       "      <td>106244</td>\n",
       "      <td>277540</td>\n",
       "      <td>104285</td>\n",
       "      <td>157758</td>\n",
       "      <td>812415</td>\n",
       "      <td>110518</td>\n",
       "      <td>64680</td>\n",
       "      <td>437610</td>\n",
       "      <td>158718</td>\n",
       "      <td>10253</td>\n",
       "    </tr>\n",
       "    <tr>\n",
       "      <th>South</th>\n",
       "      <td>709906</td>\n",
       "      <td>11579</td>\n",
       "      <td>371620</td>\n",
       "      <td>3027476</td>\n",
       "      <td>48813</td>\n",
       "      <td>84649</td>\n",
       "      <td>859419</td>\n",
       "      <td>29909</td>\n",
       "      <td>272813</td>\n",
       "      <td>11180</td>\n",
       "      <td>142496</td>\n",
       "      <td>224120</td>\n",
       "      <td>591754</td>\n",
       "      <td>223172</td>\n",
       "      <td>337458</td>\n",
       "      <td>1723016</td>\n",
       "      <td>230061</td>\n",
       "      <td>139511</td>\n",
       "      <td>916780</td>\n",
       "      <td>333620</td>\n",
       "      <td>21787</td>\n",
       "    </tr>\n",
       "    <tr>\n",
       "      <th>West</th>\n",
       "      <td>543164</td>\n",
       "      <td>8581</td>\n",
       "      <td>288155</td>\n",
       "      <td>2324678</td>\n",
       "      <td>36754</td>\n",
       "      <td>65998</td>\n",
       "      <td>650574</td>\n",
       "      <td>24059</td>\n",
       "      <td>212043</td>\n",
       "      <td>8743</td>\n",
       "      <td>106647</td>\n",
       "      <td>173830</td>\n",
       "      <td>457886</td>\n",
       "      <td>173619</td>\n",
       "      <td>260221</td>\n",
       "      <td>1327060</td>\n",
       "      <td>178200</td>\n",
       "      <td>102428</td>\n",
       "      <td>711329</td>\n",
       "      <td>257352</td>\n",
       "      <td>15906</td>\n",
       "    </tr>\n",
       "  </tbody>\n",
       "</table>\n",
       "</div>"
      ],
      "text/plain": [
       "department_id      1      2       3        4      5      6       7      8   \\\n",
       "region                                                                       \n",
       "Midwest        498225   7983  261753  2134115  34043  60666  598979  21358   \n",
       "Northeast      330743   5451  177649  1413718  21804  39698  411225  15951   \n",
       "South          709906  11579  371620  3027476  48813  84649  859419  29909   \n",
       "West           543164   8581  288155  2324678  36754  65998  650574  24059   \n",
       "\n",
       "department_id      9      10      11      12      13      14      15       16  \\\n",
       "region                                                                          \n",
       "Midwest        193463   7929  100398  158260  420334  156155  237459  1212490   \n",
       "Northeast      128697   4884   66179  106244  277540  104285  157758   812415   \n",
       "South          272813  11180  142496  224120  591754  223172  337458  1723016   \n",
       "West           212043   8743  106647  173830  457886  173619  260221  1327060   \n",
       "\n",
       "department_id      17      18      19      20     21  \n",
       "region                                                \n",
       "Midwest        166992   95741  645143  234464  15563  \n",
       "Northeast      110518   64680  437610  158718  10253  \n",
       "South          230061  139511  916780  333620  21787  \n",
       "West           178200  102428  711329  257352  15906  "
      ]
     },
     "execution_count": 61,
     "metadata": {},
     "output_type": "execute_result"
    }
   ],
   "source": [
    "crosstab_region_department"
   ]
  },
  {
   "cell_type": "code",
   "execution_count": 63,
   "id": "af878f47",
   "metadata": {},
   "outputs": [
    {
     "data": {
      "text/html": [
       "<div>\n",
       "<style scoped>\n",
       "    .dataframe tbody tr th:only-of-type {\n",
       "        vertical-align: middle;\n",
       "    }\n",
       "\n",
       "    .dataframe tbody tr th {\n",
       "        vertical-align: top;\n",
       "    }\n",
       "\n",
       "    .dataframe thead tr th {\n",
       "        text-align: left;\n",
       "    }\n",
       "\n",
       "    .dataframe thead tr:last-of-type th {\n",
       "        text-align: right;\n",
       "    }\n",
       "</style>\n",
       "<table border=\"1\" class=\"dataframe\">\n",
       "  <thead>\n",
       "    <tr>\n",
       "      <th></th>\n",
       "      <th>user_id</th>\n",
       "    </tr>\n",
       "    <tr>\n",
       "      <th></th>\n",
       "      <th>count</th>\n",
       "    </tr>\n",
       "    <tr>\n",
       "      <th>region</th>\n",
       "      <th></th>\n",
       "    </tr>\n",
       "  </thead>\n",
       "  <tbody>\n",
       "    <tr>\n",
       "      <th>Midwest</th>\n",
       "      <td>7261513</td>\n",
       "    </tr>\n",
       "    <tr>\n",
       "      <th>Northeast</th>\n",
       "      <td>4856020</td>\n",
       "    </tr>\n",
       "    <tr>\n",
       "      <th>South</th>\n",
       "      <td>10311139</td>\n",
       "    </tr>\n",
       "    <tr>\n",
       "      <th>West</th>\n",
       "      <td>7927227</td>\n",
       "    </tr>\n",
       "  </tbody>\n",
       "</table>\n",
       "</div>"
      ],
      "text/plain": [
       "            user_id\n",
       "              count\n",
       "region             \n",
       "Midwest     7261513\n",
       "Northeast   4856020\n",
       "South      10311139\n",
       "West        7927227"
      ]
     },
     "execution_count": 63,
     "metadata": {},
     "output_type": "execute_result"
    }
   ],
   "source": [
    "#compare number of customers by region\n",
    "Instacart_final.groupby('region').agg({'user_id': ['count']})"
   ]
  },
  {
   "cell_type": "code",
   "execution_count": 64,
   "id": "8882c2dd",
   "metadata": {},
   "outputs": [
    {
     "data": {
      "text/plain": [
       "Text(0, 0.5, 'Customers')"
      ]
     },
     "execution_count": 64,
     "metadata": {},
     "output_type": "execute_result"
    },
    {
     "data": {
      "image/png": "[encoded data removed]",
      "text/plain": [
       "<Figure size 640x480 with 1 Axes>"
      ]
     },
     "metadata": {},
     "output_type": "display_data"
    }
   ],
   "source": [
    "#bar chart - family status by region\n",
    "crosstab_region_family_bar = pd.crosstab(Instacart_final['region'], Instacart_final['family_status'], dropna = False)\n",
    "family_region_bar = crosstab_region_family_bar.plot(kind = 'bar')\n",
    "plt.title('Customer Family Status by Region', fontsize = 14)\n",
    "plt.legend(loc = 'upper left', ncol = 1)\n",
    "plt.ylabel('Customers')\n"
   ]
  },
  {
   "cell_type": "code",
   "execution_count": 65,
   "id": "8d0a7e96",
   "metadata": {},
   "outputs": [
    {
     "data": {
      "text/plain": [
       "Text(0, 0.5, 'Customers')"
      ]
     },
     "execution_count": 65,
     "metadata": {},
     "output_type": "execute_result"
    },
    {
     "data": {
      "image/png": "[encoded data removed]",
      "text/plain": [
       "<Figure size 640x480 with 1 Axes>"
      ]
     },
     "metadata": {},
     "output_type": "display_data"
    }
   ],
   "source": [
    "#bar chart - age_group by region\n",
    "crosstab_region_age_bar = pd.crosstab(Instacart_final['region'], Instacart_final['age_group'], dropna = False)\n",
    "age_region_bar = crosstab_region_age_bar.plot(kind = 'bar')\n",
    "plt.title('Age Group by Region', fontsize = 14)\n",
    "plt.legend(loc = 'upper left', ncol = 2)\n",
    "plt.ylabel('Customers')"
   ]
  },
  {
   "cell_type": "code",
   "execution_count": 66,
   "id": "b0200436",
   "metadata": {},
   "outputs": [
    {
     "data": {
      "text/plain": [
       "Text(0, 0.5, 'customers')"
      ]
     },
     "execution_count": 66,
     "metadata": {},
     "output_type": "execute_result"
    },
    {
     "data": {
      "image/png": "[encoded data removed]",
      "text/plain": [
       "<Figure size 640x480 with 1 Axes>"
      ]
     },
     "metadata": {},
     "output_type": "display_data"
    }
   ],
   "source": [
    "#bar chart - income category by region\n",
    "crosstab_region_income_bar = pd.crosstab(Instacart_final['region'], Instacart_final['income_category'], dropna = False)\n",
    "income_region_bar = crosstab_region_income_bar.plot(kind = 'bar')\n",
    "plt.title('Income categories by Region', fontsize = 14)\n",
    "plt.legend(loc = 'upper left', ncol = 2)\n",
    "plt.ylabel('customers')"
   ]
  },
  {
   "cell_type": "code",
   "execution_count": 67,
   "id": "7329d0d6",
   "metadata": {},
   "outputs": [
    {
     "data": {
      "image/png": "[encoded data removed]",
      "text/plain": [
       "<Figure size 640x480 with 1 Axes>"
      ]
     },
     "metadata": {},
     "output_type": "display_data"
    }
   ],
   "source": [
    "#bar graph on department\n",
    "bar_department = Instacart_final['department_id'].value_counts().plot.bar()"
   ]
  },
  {
   "cell_type": "code",
   "execution_count": 68,
   "id": "675d50e3",
   "metadata": {},
   "outputs": [
    {
     "data": {
      "image/png": "[encoded data removed]",
      "text/plain": [
       "<Figure size 640x480 with 1 Axes>"
      ]
     },
     "metadata": {},
     "output_type": "display_data"
    }
   ],
   "source": [
    "#bar graph region\n",
    "bar_department = Instacart_final['region'].value_counts().plot.bar(color =['red','orange', 'yellow', 'grey'])"
   ]
  },
  {
   "cell_type": "markdown",
   "id": "1bd3a39c",
   "metadata": {},
   "source": [
    "Exporting Visualizations and Datasets"
   ]
  },
  {
   "cell_type": "code",
   "execution_count": 69,
   "id": "40a06544",
   "metadata": {},
   "outputs": [
    {
     "data": {
      "text/html": [
       "<div>\n",
       "<style scoped>\n",
       "    .dataframe tbody tr th:only-of-type {\n",
       "        vertical-align: middle;\n",
       "    }\n",
       "\n",
       "    .dataframe tbody tr th {\n",
       "        vertical-align: top;\n",
       "    }\n",
       "\n",
       "    .dataframe thead th {\n",
       "        text-align: right;\n",
       "    }\n",
       "</style>\n",
       "<table border=\"1\" class=\"dataframe\">\n",
       "  <thead>\n",
       "    <tr style=\"text-align: right;\">\n",
       "      <th></th>\n",
       "      <th>Unnamed: 0</th>\n",
       "      <th>department</th>\n",
       "    </tr>\n",
       "  </thead>\n",
       "  <tbody>\n",
       "    <tr>\n",
       "      <th>16</th>\n",
       "      <td>17</td>\n",
       "      <td>household</td>\n",
       "    </tr>\n",
       "    <tr>\n",
       "      <th>17</th>\n",
       "      <td>18</td>\n",
       "      <td>babies</td>\n",
       "    </tr>\n",
       "    <tr>\n",
       "      <th>18</th>\n",
       "      <td>19</td>\n",
       "      <td>snacks</td>\n",
       "    </tr>\n",
       "    <tr>\n",
       "      <th>19</th>\n",
       "      <td>20</td>\n",
       "      <td>deli</td>\n",
       "    </tr>\n",
       "    <tr>\n",
       "      <th>20</th>\n",
       "      <td>21</td>\n",
       "      <td>missing</td>\n",
       "    </tr>\n",
       "  </tbody>\n",
       "</table>\n",
       "</div>"
      ],
      "text/plain": [
       "    Unnamed: 0 department\n",
       "16          17  household\n",
       "17          18     babies\n",
       "18          19     snacks\n",
       "19          20       deli\n",
       "20          21    missing"
      ]
     },
     "execution_count": 69,
     "metadata": {},
     "output_type": "execute_result"
    }
   ],
   "source": [
    "#list departments\n",
    "df_prods.tail()"
   ]
  },
  {
   "cell_type": "code",
   "execution_count": 70,
   "id": "d1ccb1f6",
   "metadata": {},
   "outputs": [
    {
     "data": {
      "text/html": [
       "<div>\n",
       "<style scoped>\n",
       "    .dataframe tbody tr th:only-of-type {\n",
       "        vertical-align: middle;\n",
       "    }\n",
       "\n",
       "    .dataframe tbody tr th {\n",
       "        vertical-align: top;\n",
       "    }\n",
       "\n",
       "    .dataframe thead th {\n",
       "        text-align: right;\n",
       "    }\n",
       "</style>\n",
       "<table border=\"1\" class=\"dataframe\">\n",
       "  <thead>\n",
       "    <tr style=\"text-align: right;\">\n",
       "      <th></th>\n",
       "      <th>order_id</th>\n",
       "      <th>user_id</th>\n",
       "      <th>order_number</th>\n",
       "      <th>orders_day_of_week</th>\n",
       "      <th>order_hour_of_day</th>\n",
       "      <th>days_since_prior_order</th>\n",
       "      <th>product_id</th>\n",
       "      <th>add_to_cart_order</th>\n",
       "      <th>reordered</th>\n",
       "      <th>_merge</th>\n",
       "      <th>product_name</th>\n",
       "      <th>aisle_id</th>\n",
       "      <th>department_id</th>\n",
       "      <th>prices</th>\n",
       "      <th>price_range_loc</th>\n",
       "      <th>busiest_day</th>\n",
       "      <th>busiest_days</th>\n",
       "      <th>busiest_period_of_day</th>\n",
       "      <th>max_order</th>\n",
       "      <th>loyalty_flag</th>\n",
       "      <th>mean_prices</th>\n",
       "      <th>spending_flag</th>\n",
       "      <th>median_days_since_prior_order</th>\n",
       "      <th>order_frequency_flag</th>\n",
       "      <th>gender</th>\n",
       "      <th>state</th>\n",
       "      <th>age</th>\n",
       "      <th>date_joined</th>\n",
       "      <th>no_of_dependants</th>\n",
       "      <th>status</th>\n",
       "      <th>income</th>\n",
       "      <th>region</th>\n",
       "      <th>customer_revenue_rate</th>\n",
       "      <th>family_status</th>\n",
       "      <th>age_group</th>\n",
       "      <th>income_category</th>\n",
       "      <th>indicative_goods</th>\n",
       "    </tr>\n",
       "  </thead>\n",
       "  <tbody>\n",
       "    <tr>\n",
       "      <th>0</th>\n",
       "      <td>2539329</td>\n",
       "      <td>1</td>\n",
       "      <td>1</td>\n",
       "      <td>2</td>\n",
       "      <td>8</td>\n",
       "      <td>7.0</td>\n",
       "      <td>196</td>\n",
       "      <td>1</td>\n",
       "      <td>0</td>\n",
       "      <td>both</td>\n",
       "      <td>Soda</td>\n",
       "      <td>77</td>\n",
       "      <td>7</td>\n",
       "      <td>9.0</td>\n",
       "      <td>Mid-range product</td>\n",
       "      <td>Regularly busy</td>\n",
       "      <td>Regularly busy</td>\n",
       "      <td>Average orders</td>\n",
       "      <td>10</td>\n",
       "      <td>New customer</td>\n",
       "      <td>6.367797</td>\n",
       "      <td>Low spender</td>\n",
       "      <td>20.0</td>\n",
       "      <td>Regular customer</td>\n",
       "      <td>Female</td>\n",
       "      <td>Alabama</td>\n",
       "      <td>31</td>\n",
       "      <td>2/17/2019</td>\n",
       "      <td>3</td>\n",
       "      <td>married</td>\n",
       "      <td>40423</td>\n",
       "      <td>South</td>\n",
       "      <td>0.0</td>\n",
       "      <td>parent</td>\n",
       "      <td>adult</td>\n",
       "      <td>very Low income</td>\n",
       "      <td>NaN</td>\n",
       "    </tr>\n",
       "    <tr>\n",
       "      <th>1</th>\n",
       "      <td>2398795</td>\n",
       "      <td>1</td>\n",
       "      <td>2</td>\n",
       "      <td>3</td>\n",
       "      <td>7</td>\n",
       "      <td>15.0</td>\n",
       "      <td>196</td>\n",
       "      <td>1</td>\n",
       "      <td>1</td>\n",
       "      <td>both</td>\n",
       "      <td>Soda</td>\n",
       "      <td>77</td>\n",
       "      <td>7</td>\n",
       "      <td>9.0</td>\n",
       "      <td>Mid-range product</td>\n",
       "      <td>Regularly busy</td>\n",
       "      <td>Least busy days</td>\n",
       "      <td>Average orders</td>\n",
       "      <td>10</td>\n",
       "      <td>New customer</td>\n",
       "      <td>6.367797</td>\n",
       "      <td>Low spender</td>\n",
       "      <td>20.0</td>\n",
       "      <td>Regular customer</td>\n",
       "      <td>Female</td>\n",
       "      <td>Alabama</td>\n",
       "      <td>31</td>\n",
       "      <td>2/17/2019</td>\n",
       "      <td>3</td>\n",
       "      <td>married</td>\n",
       "      <td>40423</td>\n",
       "      <td>South</td>\n",
       "      <td>0.0</td>\n",
       "      <td>parent</td>\n",
       "      <td>adult</td>\n",
       "      <td>very Low income</td>\n",
       "      <td>NaN</td>\n",
       "    </tr>\n",
       "    <tr>\n",
       "      <th>2</th>\n",
       "      <td>473747</td>\n",
       "      <td>1</td>\n",
       "      <td>3</td>\n",
       "      <td>3</td>\n",
       "      <td>12</td>\n",
       "      <td>21.0</td>\n",
       "      <td>196</td>\n",
       "      <td>1</td>\n",
       "      <td>1</td>\n",
       "      <td>both</td>\n",
       "      <td>Soda</td>\n",
       "      <td>77</td>\n",
       "      <td>7</td>\n",
       "      <td>9.0</td>\n",
       "      <td>Mid-range product</td>\n",
       "      <td>Regularly busy</td>\n",
       "      <td>Least busy days</td>\n",
       "      <td>Most orders</td>\n",
       "      <td>10</td>\n",
       "      <td>New customer</td>\n",
       "      <td>6.367797</td>\n",
       "      <td>Low spender</td>\n",
       "      <td>20.0</td>\n",
       "      <td>Regular customer</td>\n",
       "      <td>Female</td>\n",
       "      <td>Alabama</td>\n",
       "      <td>31</td>\n",
       "      <td>2/17/2019</td>\n",
       "      <td>3</td>\n",
       "      <td>married</td>\n",
       "      <td>40423</td>\n",
       "      <td>South</td>\n",
       "      <td>0.0</td>\n",
       "      <td>parent</td>\n",
       "      <td>adult</td>\n",
       "      <td>very Low income</td>\n",
       "      <td>NaN</td>\n",
       "    </tr>\n",
       "    <tr>\n",
       "      <th>3</th>\n",
       "      <td>2254736</td>\n",
       "      <td>1</td>\n",
       "      <td>4</td>\n",
       "      <td>4</td>\n",
       "      <td>7</td>\n",
       "      <td>29.0</td>\n",
       "      <td>196</td>\n",
       "      <td>1</td>\n",
       "      <td>1</td>\n",
       "      <td>both</td>\n",
       "      <td>Soda</td>\n",
       "      <td>77</td>\n",
       "      <td>7</td>\n",
       "      <td>9.0</td>\n",
       "      <td>Mid-range product</td>\n",
       "      <td>Least busy</td>\n",
       "      <td>Least busy days</td>\n",
       "      <td>Average orders</td>\n",
       "      <td>10</td>\n",
       "      <td>New customer</td>\n",
       "      <td>6.367797</td>\n",
       "      <td>Low spender</td>\n",
       "      <td>20.0</td>\n",
       "      <td>Regular customer</td>\n",
       "      <td>Female</td>\n",
       "      <td>Alabama</td>\n",
       "      <td>31</td>\n",
       "      <td>2/17/2019</td>\n",
       "      <td>3</td>\n",
       "      <td>married</td>\n",
       "      <td>40423</td>\n",
       "      <td>South</td>\n",
       "      <td>0.0</td>\n",
       "      <td>parent</td>\n",
       "      <td>adult</td>\n",
       "      <td>very Low income</td>\n",
       "      <td>NaN</td>\n",
       "    </tr>\n",
       "    <tr>\n",
       "      <th>4</th>\n",
       "      <td>431534</td>\n",
       "      <td>1</td>\n",
       "      <td>5</td>\n",
       "      <td>4</td>\n",
       "      <td>15</td>\n",
       "      <td>28.0</td>\n",
       "      <td>196</td>\n",
       "      <td>1</td>\n",
       "      <td>1</td>\n",
       "      <td>both</td>\n",
       "      <td>Soda</td>\n",
       "      <td>77</td>\n",
       "      <td>7</td>\n",
       "      <td>9.0</td>\n",
       "      <td>Mid-range product</td>\n",
       "      <td>Least busy</td>\n",
       "      <td>Least busy days</td>\n",
       "      <td>Most orders</td>\n",
       "      <td>10</td>\n",
       "      <td>New customer</td>\n",
       "      <td>6.367797</td>\n",
       "      <td>Low spender</td>\n",
       "      <td>20.0</td>\n",
       "      <td>Regular customer</td>\n",
       "      <td>Female</td>\n",
       "      <td>Alabama</td>\n",
       "      <td>31</td>\n",
       "      <td>2/17/2019</td>\n",
       "      <td>3</td>\n",
       "      <td>married</td>\n",
       "      <td>40423</td>\n",
       "      <td>South</td>\n",
       "      <td>0.0</td>\n",
       "      <td>parent</td>\n",
       "      <td>adult</td>\n",
       "      <td>very Low income</td>\n",
       "      <td>NaN</td>\n",
       "    </tr>\n",
       "  </tbody>\n",
       "</table>\n",
       "</div>"
      ],
      "text/plain": [
       "   order_id  user_id  order_number  orders_day_of_week  order_hour_of_day  \\\n",
       "0   2539329        1             1                   2                  8   \n",
       "1   2398795        1             2                   3                  7   \n",
       "2    473747        1             3                   3                 12   \n",
       "3   2254736        1             4                   4                  7   \n",
       "4    431534        1             5                   4                 15   \n",
       "\n",
       "   days_since_prior_order  product_id  add_to_cart_order  reordered _merge  \\\n",
       "0                     7.0         196                  1          0   both   \n",
       "1                    15.0         196                  1          1   both   \n",
       "2                    21.0         196                  1          1   both   \n",
       "3                    29.0         196                  1          1   both   \n",
       "4                    28.0         196                  1          1   both   \n",
       "\n",
       "  product_name  aisle_id  department_id  prices    price_range_loc  \\\n",
       "0         Soda        77              7     9.0  Mid-range product   \n",
       "1         Soda        77              7     9.0  Mid-range product   \n",
       "2         Soda        77              7     9.0  Mid-range product   \n",
       "3         Soda        77              7     9.0  Mid-range product   \n",
       "4         Soda        77              7     9.0  Mid-range product   \n",
       "\n",
       "      busiest_day     busiest_days busiest_period_of_day  max_order  \\\n",
       "0  Regularly busy   Regularly busy        Average orders         10   \n",
       "1  Regularly busy  Least busy days        Average orders         10   \n",
       "2  Regularly busy  Least busy days           Most orders         10   \n",
       "3      Least busy  Least busy days        Average orders         10   \n",
       "4      Least busy  Least busy days           Most orders         10   \n",
       "\n",
       "   loyalty_flag  mean_prices spending_flag  median_days_since_prior_order  \\\n",
       "0  New customer     6.367797   Low spender                           20.0   \n",
       "1  New customer     6.367797   Low spender                           20.0   \n",
       "2  New customer     6.367797   Low spender                           20.0   \n",
       "3  New customer     6.367797   Low spender                           20.0   \n",
       "4  New customer     6.367797   Low spender                           20.0   \n",
       "\n",
       "  order_frequency_flag  gender    state  age date_joined  no_of_dependants  \\\n",
       "0     Regular customer  Female  Alabama   31   2/17/2019                 3   \n",
       "1     Regular customer  Female  Alabama   31   2/17/2019                 3   \n",
       "2     Regular customer  Female  Alabama   31   2/17/2019                 3   \n",
       "3     Regular customer  Female  Alabama   31   2/17/2019                 3   \n",
       "4     Regular customer  Female  Alabama   31   2/17/2019                 3   \n",
       "\n",
       "    status  income region  customer_revenue_rate family_status age_group  \\\n",
       "0  married   40423  South                    0.0        parent     adult   \n",
       "1  married   40423  South                    0.0        parent     adult   \n",
       "2  married   40423  South                    0.0        parent     adult   \n",
       "3  married   40423  South                    0.0        parent     adult   \n",
       "4  married   40423  South                    0.0        parent     adult   \n",
       "\n",
       "   income_category indicative_goods  \n",
       "0  very Low income              NaN  \n",
       "1  very Low income              NaN  \n",
       "2  very Low income              NaN  \n",
       "3  very Low income              NaN  \n",
       "4  very Low income              NaN  "
      ]
     },
     "execution_count": 70,
     "metadata": {},
     "output_type": "execute_result"
    }
   ],
   "source": [
    "Instacart_final.head(5)"
   ]
  },
  {
   "cell_type": "code",
   "execution_count": 71,
   "id": "3f894802",
   "metadata": {},
   "outputs": [],
   "source": [
    "#Export charts\n",
    "bar_income.figure.savefig(os.path.join(path, '04 Analysis','Visualizations', 'Instacart Final Visualizations','bar_income.png'))\n",
    "bar_age.figure.savefig(os.path.join(path, '04 Analysis','Visualizations', 'Instacart Final Visualizations','bar_age.png'))\n",
    "pie_family.figure.savefig(os.path.join(path, '04 Analysis','Visualizations', 'Instacart Final Visualizations','pie_family_status.png'))\n",
    "family_region_bar.figure.savefig(os.path.join(path, '04 Analysis','Visualizations', 'Instacart Final Visualizations','bar_family_region.png'))\n",
    "age_region_bar.figure.savefig(os.path.join(path, '04 Analysis','Visualizations', 'Instacart Final Visualizations','bar_age_region.png'))\n",
    "income_region_bar.figure.savefig(os.path.join(path, '04 Analysis','Visualizations', 'Instacart Final Visualizations','bar_income_region.png'))\n",
    "bar_department.figure.savefig(os.path.join(path, '04 Analysis','Visualizations', 'Instacart Final Visualizations','bar_department.png'))"
   ]
  },
  {
   "cell_type": "code",
   "execution_count": 72,
   "id": "4cba42ed",
   "metadata": {},
   "outputs": [],
   "source": [
    "#Export datasets\n",
    "Instacart_final.to_pickle(os.path.join(path, '02 Data','Prepared Data', 'Instacart_final.pkl'))\n",
    "low_revenue_customers.to_pickle(os.path.join(path, '02 Data','Prepared Data', 'low_revenue_customers.pkl'))\n",
    "orders_products_customers.to_pickle(os.path.join(path, '02 Data','Prepared Data', 'orders_products_customers.pkl'))"
   ]
  },
  {
   "cell_type": "code",
   "execution_count": 73,
   "id": "eeaee074",
   "metadata": {},
   "outputs": [
    {
     "data": {
      "text/plain": [
       "(30964564, 37)"
      ]
     },
     "execution_count": 73,
     "metadata": {},
     "output_type": "execute_result"
    }
   ],
   "source": [
    "Instacart_final.shape"
   ]
  },
  {
   "cell_type": "code",
   "execution_count": null,
   "id": "c0101d98",
   "metadata": {},
   "outputs": [],
   "source": []
  }
 ],
 "metadata": {
  "kernelspec": {
   "display_name": "Python 3 (ipykernel)",
   "language": "python",
   "name": "python3"
  },
  "language_info": {
   "codemirror_mode": {
    "name": "ipython",
    "version": 3
   },
   "file_extension": ".py",
   "mimetype": "text/x-python",
   "name": "python",
   "nbconvert_exporter": "python",
   "pygments_lexer": "ipython3",
   "version": "3.9.13"
  }
 },
 "nbformat": 4,
 "nbformat_minor": 5
}
