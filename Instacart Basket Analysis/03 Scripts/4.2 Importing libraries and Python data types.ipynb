{
 "cells": [
  {
   "cell_type": "markdown",
   "id": "5d0bc8f3",
   "metadata": {},
   "source": [
    "#01.Importing libraries\n"
   ]
  },
  {
   "cell_type": "code",
   "execution_count": 5,
   "id": "36d83c65",
   "metadata": {},
   "outputs": [],
   "source": [
    "# Import libraries\n",
    "import pandas as pd\n",
    "import numpy as np\n",
    "import os"
   ]
  },
  {
   "cell_type": "code",
   "execution_count": 6,
   "id": "e9746f17",
   "metadata": {},
   "outputs": [],
   "source": [
    "# Python data types"
   ]
  },
  {
   "cell_type": "code",
   "execution_count": 7,
   "id": "a8ea7175",
   "metadata": {},
   "outputs": [],
   "source": [
    "x = 50"
   ]
  },
  {
   "cell_type": "code",
   "execution_count": 8,
   "id": "6a44e996",
   "metadata": {},
   "outputs": [],
   "source": [
    "y = 25"
   ]
  },
  {
   "cell_type": "code",
   "execution_count": 11,
   "id": "16616e21",
   "metadata": {},
   "outputs": [
    {
     "data": {
      "text/plain": [
       "100"
      ]
     },
     "execution_count": 11,
     "metadata": {},
     "output_type": "execute_result"
    }
   ],
   "source": [
    "x + y + y"
   ]
  },
  {
   "cell_type": "code",
   "execution_count": 12,
   "id": "5c92919b",
   "metadata": {},
   "outputs": [
    {
     "data": {
      "text/plain": [
       "100"
      ]
     },
     "execution_count": 12,
     "metadata": {},
     "output_type": "execute_result"
    }
   ],
   "source": [
    "x + x"
   ]
  },
  {
   "cell_type": "code",
   "execution_count": 13,
   "id": "628c86be",
   "metadata": {},
   "outputs": [
    {
     "data": {
      "text/plain": [
       "100"
      ]
     },
     "execution_count": 13,
     "metadata": {},
     "output_type": "execute_result"
    }
   ],
   "source": [
    "y + y + y + y"
   ]
  },
  {
   "cell_type": "code",
   "execution_count": 14,
   "id": "c3305efa",
   "metadata": {},
   "outputs": [],
   "source": [
    "v = 504.26"
   ]
  },
  {
   "cell_type": "code",
   "execution_count": 15,
   "id": "af5811cd",
   "metadata": {},
   "outputs": [],
   "source": [
    "w = 15.16"
   ]
  },
  {
   "cell_type": "code",
   "execution_count": 16,
   "id": "b493d0e3",
   "metadata": {},
   "outputs": [
    {
     "data": {
      "text/plain": [
       "33.26253298153034"
      ]
     },
     "execution_count": 16,
     "metadata": {},
     "output_type": "execute_result"
    }
   ],
   "source": [
    "v / w"
   ]
  },
  {
   "cell_type": "code",
   "execution_count": 17,
   "id": "193dce4d",
   "metadata": {},
   "outputs": [
    {
     "data": {
      "text/plain": [
       "0.03006385594732876"
      ]
     },
     "execution_count": 17,
     "metadata": {},
     "output_type": "execute_result"
    }
   ],
   "source": [
    "w / v"
   ]
  },
  {
   "cell_type": "code",
   "execution_count": 18,
   "id": "bc446dcf",
   "metadata": {},
   "outputs": [],
   "source": [
    "t = 'hos'\n"
   ]
  },
  {
   "cell_type": "code",
   "execution_count": 19,
   "id": "73bc15b3",
   "metadata": {},
   "outputs": [],
   "source": [
    "u = 'tel'"
   ]
  },
  {
   "cell_type": "code",
   "execution_count": 20,
   "id": "a021fed7",
   "metadata": {},
   "outputs": [
    {
     "data": {
      "text/plain": [
       "'hostel'"
      ]
     },
     "execution_count": 20,
     "metadata": {},
     "output_type": "execute_result"
    }
   ],
   "source": [
    "t+u"
   ]
  },
  {
   "cell_type": "code",
   "execution_count": 25,
   "id": "9431d7d6",
   "metadata": {},
   "outputs": [],
   "source": [
    "r = 'Come up with '"
   ]
  },
  {
   "cell_type": "code",
   "execution_count": 26,
   "id": "d37785d3",
   "metadata": {},
   "outputs": [],
   "source": [
    "s = 'a prefferable structure.'"
   ]
  },
  {
   "cell_type": "code",
   "execution_count": 27,
   "id": "fc545aaa",
   "metadata": {},
   "outputs": [
    {
     "data": {
      "text/plain": [
       "'Come up with a prefferable structure.'"
      ]
     },
     "execution_count": 27,
     "metadata": {},
     "output_type": "execute_result"
    }
   ],
   "source": [
    "r + s "
   ]
  },
  {
   "cell_type": "code",
   "execution_count": 28,
   "id": "0b8a9b67",
   "metadata": {},
   "outputs": [],
   "source": [
    "p = ' That will help the people'"
   ]
  },
  {
   "cell_type": "code",
   "execution_count": 29,
   "id": "32d62f22",
   "metadata": {},
   "outputs": [],
   "source": [
    "q = ' living in that area.'"
   ]
  },
  {
   "cell_type": "code",
   "execution_count": 30,
   "id": "24a18ca3",
   "metadata": {},
   "outputs": [
    {
     "data": {
      "text/plain": [
       "' That will help the people living in that area.'"
      ]
     },
     "execution_count": 30,
     "metadata": {},
     "output_type": "execute_result"
    }
   ],
   "source": [
    "p + q"
   ]
  },
  {
   "cell_type": "code",
   "execution_count": 31,
   "id": "e83cd37e",
   "metadata": {},
   "outputs": [
    {
     "data": {
      "text/plain": [
       "'Come up with a prefferable structure. That will help the people living in that area.'"
      ]
     },
     "execution_count": 31,
     "metadata": {},
     "output_type": "execute_result"
    }
   ],
   "source": [
    "r + s + p + q"
   ]
  },
  {
   "cell_type": "code",
   "execution_count": 32,
   "id": "109a5b68",
   "metadata": {},
   "outputs": [
    {
     "data": {
      "text/plain": [
       "'teltelteltelteltelteltelteltelteltelteltelteltelteltelteltelteltelteltelteltelteltelteltelteltelteltelteltelteltelteltelteltelteltelteltelteltelteltelteltelteltelteltelteltelteltelteltelteltelteltelteltelteltelteltelteltelteltelteltelteltelteltelteltelteltelteltelteltelteltelteltelteltelteltelteltel'"
      ]
     },
     "execution_count": 32,
     "metadata": {},
     "output_type": "execute_result"
    }
   ],
   "source": [
    "u * 100"
   ]
  },
  {
   "cell_type": "code",
   "execution_count": null,
   "id": "72978ff6",
   "metadata": {},
   "outputs": [],
   "source": []
  }
 ],
 "metadata": {
  "kernelspec": {
   "display_name": "Python 3 (ipykernel)",
   "language": "python",
   "name": "python3"
  },
  "language_info": {
   "codemirror_mode": {
    "name": "ipython",
    "version": 3
   },
   "file_extension": ".py",
   "mimetype": "text/x-python",
   "name": "python",
   "nbconvert_exporter": "python",
   "pygments_lexer": "ipython3",
   "version": "3.9.13"
  }
 },
 "nbformat": 4,
 "nbformat_minor": 5
}
